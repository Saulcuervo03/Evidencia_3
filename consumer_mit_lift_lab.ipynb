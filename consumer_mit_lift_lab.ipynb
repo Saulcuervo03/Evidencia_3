{
  "nbformat": 4,
  "nbformat_minor": 0,
  "metadata": {
    "colab": {
      "provenance": [],
      "include_colab_link": true
    },
    "kernelspec": {
      "name": "python3",
      "display_name": "Python 3"
    },
    "language_info": {
      "name": "python"
    }
  },
  "cells": [
    {
      "cell_type": "markdown",
      "metadata": {
        "id": "view-in-github",
        "colab_type": "text"
      },
      "source": [
        "<a href=\"https://colab.research.google.com/github/Saulcuervo03/Evidencia_3/blob/main/consumer_mit_lift_lab.ipynb\" target=\"_parent\"><img src=\"https://colab.research.google.com/assets/colab-badge.svg\" alt=\"Open In Colab\"/></a>"
      ]
    },
    {
      "cell_type": "code",
      "source": [
        "%pip install funpymodeling\n",
        "%pip install pandas"
      ],
      "metadata": {
        "id": "2tbcSAt-dm3H"
      },
      "execution_count": null,
      "outputs": []
    },
    {
      "cell_type": "code",
      "source": [
        "#importamos papalerias\n",
        "import pandas as pd\n",
        "import numpy as np\n",
        "import matplotlib.pyplot as plt\n",
        "from funpymodeling.exploratory import freq_tbl\n",
        "import seaborn as sns\n",
        "import scipy.special as special\n",
        "from scipy.optimize import curve_fit\n",
        "import seaborn as sns\n",
        "from sklearn.metrics import r2_score\n",
        "from sklearn.model_selection import train_test_split\n",
        "from sklearn.preprocessing import StandardScaler"
      ],
      "metadata": {
        "id": "jc_w8i69dryE"
      },
      "execution_count": null,
      "outputs": []
    },
    {
      "cell_type": "code",
      "source": [
        "from google.colab import files\n",
        "files.upload()"
      ],
      "metadata": {
        "id": "XrMrIQyrd2x8"
      },
      "execution_count": null,
      "outputs": []
    },
    {
      "cell_type": "code",
      "source": [
        "#leemos el archivo\n",
        "data1 = pd.read_excel(\"consumer_mit_lift_lab.xlsx\")\n",
        "data1"
      ],
      "metadata": {
        "id": "O1axMZSLd7m-",
        "colab": {
          "base_uri": "https://localhost:8080/",
          "height": 835
        },
        "outputId": "491459a0-eb22-4fe3-c0c7-d3c752d6e6a7"
      },
      "execution_count": null,
      "outputs": [
        {
          "output_type": "execute_result",
          "data": {
            "text/plain": [
              "                               _record_id             _title  \\\n",
              "0    94c9c1c8-f806-4dd6-9124-0447101139ce  November 27, 2022   \n",
              "1    1766c0a9-8f4d-452e-b2f9-5c7f7fa6e509  November 27, 2022   \n",
              "2    3f1e53cb-d761-48aa-be19-18d69ecbebf2  November 27, 2022   \n",
              "3    335e6647-537c-47da-9efa-805a110f6936  November 27, 2022   \n",
              "4    902e4d41-8299-424d-834b-d1090b1743c0  November 27, 2022   \n",
              "..                                    ...                ...   \n",
              "370  ee7ac407-4767-47b1-93b3-d7e09b49faec   November 3, 2022   \n",
              "371  f65a8190-df80-440e-83bc-2639decfffd0   November 3, 2022   \n",
              "372  70f42238-83b5-4a16-9f2e-a758efb8afb0   November 3, 2022   \n",
              "373  e4727f46-797f-4344-b183-0deeed11750f   November 3, 2022   \n",
              "374  0a5616e1-62cd-4f28-a282-9b34db145752   November 3, 2022   \n",
              "\n",
              "          _server_updated_at                _updated_by  \\\n",
              "0    2022-11-27 19:17:26 UTC             Sandra Carreón   \n",
              "1    2022-11-27 19:17:26 UTC             Sandra Carreón   \n",
              "2    2022-11-27 19:00:55 UTC             Sandra Carreón   \n",
              "3    2022-11-27 18:51:26 UTC             Sandra Carreón   \n",
              "4    2022-11-27 16:03:02 UTC             Sandra Carreón   \n",
              "..                       ...                        ...   \n",
              "370  2022-11-03 20:15:32 UTC             Daniel Serrano   \n",
              "371  2022-11-03 20:05:31 UTC             Daniel Serrano   \n",
              "372  2022-11-03 20:04:35 UTC  Fernando Gonzálezinactivo   \n",
              "373  2022-11-03 20:04:34 UTC  Fernando Gonzálezinactivo   \n",
              "374  2022-11-03 19:58:24 UTC             Daniel Serrano   \n",
              "\n",
              "                                         _geometry  _latitude  _longitude  \\\n",
              "0    SRID=4326;POINT(-98.1980873644 19.0486653032)  19.048665  -98.198087   \n",
              "1     SRID=4326;POINT(-98.198058866 19.0487039671)  19.048704  -98.198059   \n",
              "2    SRID=4326;POINT(-98.2017408684 19.0459141241)  19.045914  -98.201741   \n",
              "3      SRID=4326;POINT(-98.1981215626 19.04858956)  19.048590  -98.198122   \n",
              "4    SRID=4326;POINT(-98.1988253072 19.0441482241)  19.044148  -98.198825   \n",
              "..                                             ...        ...         ...   \n",
              "370  SRID=4326;POINT(-98.2671002671 19.0352236761)  19.035224  -98.267100   \n",
              "371  SRID=4326;POINT(-98.2678556442 19.0352804088)  19.035280  -98.267856   \n",
              "372        SRID=4326;POINT(-98.2678617 19.0354511)  19.035451  -98.267862   \n",
              "373        SRID=4326;POINT(-98.2678314 19.0354858)  19.035486  -98.267831   \n",
              "374  SRID=4326;POINT(-98.2679243758 19.0353989453)  19.035399  -98.267924   \n",
              "\n",
              "    282_payment_method_that_purchase 283_fulfill_needs 300_did_not_find  ...  \\\n",
              "0                           Efectivo               yes              NaN  ...   \n",
              "1                           Efectivo               yes              NaN  ...   \n",
              "2                           Efectivo               yes              NaN  ...   \n",
              "3                           Efectivo               yes              NaN  ...   \n",
              "4                           Efectivo               yes              NaN  ...   \n",
              "..                               ...               ...              ...  ...   \n",
              "370                         Efectivo               yes              NaN  ...   \n",
              "371                         Efectivo               yes              NaN  ...   \n",
              "372                         Efectivo               yes              NaN  ...   \n",
              "373                         Efectivo               yes              NaN  ...   \n",
              "374                         Efectivo               yes              NaN  ...   \n",
              "\n",
              "    81_number_online_purchases_month 288_number_app_purchases_month  \\\n",
              "0                                  5                              4   \n",
              "1                                  5                              3   \n",
              "2                                  9                             12   \n",
              "3                                  2                              0   \n",
              "4                                  2                              5   \n",
              "..                               ...                            ...   \n",
              "370                               15                             10   \n",
              "371                                1                              1   \n",
              "372                                3                              2   \n",
              "373                                2                              4   \n",
              "374                                0                              3   \n",
              "\n",
              "     289_number_whatsapp_purchases_month 83_willingness_ultrafast_delivery  \\\n",
              "0                                      2                               250   \n",
              "1                                      0                               300   \n",
              "2                                      2                               500   \n",
              "3                                      1                               280   \n",
              "4                                      1                               250   \n",
              "..                                   ...                               ...   \n",
              "370                                    0                               100   \n",
              "371                                    0                                50   \n",
              "372                                    0                                 0   \n",
              "373                                    0                                30   \n",
              "374                                    0                               150   \n",
              "\n",
              "    84_willingness_sameday_delivery 241_age_of_the_interviewee  \\\n",
              "0                               100                         18   \n",
              "1                               100                         17   \n",
              "2                               300                         30   \n",
              "3                               150                         24   \n",
              "4                               150                         22   \n",
              "..                              ...                        ...   \n",
              "370                             100                         15   \n",
              "371                              70                         21   \n",
              "372                               0                         18   \n",
              "373                             100                         18   \n",
              "374                            1000                         18   \n",
              "\n",
              "    240_gender_interviewee       indicate_the_type_of_store  \\\n",
              "0                     Male   Grocery store (aka. nanostore)   \n",
              "1                     Male   Grocery store (aka. nanostore)   \n",
              "2                     Male   Grocery store (aka. nanostore)   \n",
              "3                     Male   Grocery store (aka. nanostore)   \n",
              "4                   Female   Grocery store (aka. nanostore)   \n",
              "..                     ...                              ...   \n",
              "370                   Male  Micro-restaurant (aka. fondita)   \n",
              "371                 Female                        Cafeteria   \n",
              "372                   Male                        Cafeteria   \n",
              "373                   Male                        Cafeteria   \n",
              "374                   Male                        Cafeteria   \n",
              "\n",
              "                        name_of_the_store  \\\n",
              "0                      MINI SUPER 3 NORTE   \n",
              "1                      MINI SUPER 3 NORTE   \n",
              "2    Abarrotes licores y vinos La ranita    \n",
              "3                             Miscelánea    \n",
              "4                              Ranita “V”   \n",
              "..                                    ...   \n",
              "370                   Taquería don Jorge    \n",
              "371                  La parrilla del lobo   \n",
              "372                  La Parrilla del lobo   \n",
              "373                            Crudopolis   \n",
              "374                           Crudopolis    \n",
              "\n",
              "    storefront_picture_just_once_if_possible  \n",
              "0                                    1 Photo  \n",
              "1                                    1 Photo  \n",
              "2                                    1 Photo  \n",
              "3                                    1 Photo  \n",
              "4                                    1 Photo  \n",
              "..                                       ...  \n",
              "370                                  1 Photo  \n",
              "371                                  1 Photo  \n",
              "372                                  1 Photo  \n",
              "373                                  1 Photo  \n",
              "374                                  1 Photo  \n",
              "\n",
              "[375 rows x 36 columns]"
            ],
            "text/html": [
              "\n",
              "  <div id=\"df-dc55872d-8a6d-445e-b374-78e427d31357\">\n",
              "    <div class=\"colab-df-container\">\n",
              "      <div>\n",
              "<style scoped>\n",
              "    .dataframe tbody tr th:only-of-type {\n",
              "        vertical-align: middle;\n",
              "    }\n",
              "\n",
              "    .dataframe tbody tr th {\n",
              "        vertical-align: top;\n",
              "    }\n",
              "\n",
              "    .dataframe thead th {\n",
              "        text-align: right;\n",
              "    }\n",
              "</style>\n",
              "<table border=\"1\" class=\"dataframe\">\n",
              "  <thead>\n",
              "    <tr style=\"text-align: right;\">\n",
              "      <th></th>\n",
              "      <th>_record_id</th>\n",
              "      <th>_title</th>\n",
              "      <th>_server_updated_at</th>\n",
              "      <th>_updated_by</th>\n",
              "      <th>_geometry</th>\n",
              "      <th>_latitude</th>\n",
              "      <th>_longitude</th>\n",
              "      <th>282_payment_method_that_purchase</th>\n",
              "      <th>283_fulfill_needs</th>\n",
              "      <th>300_did_not_find</th>\n",
              "      <th>...</th>\n",
              "      <th>81_number_online_purchases_month</th>\n",
              "      <th>288_number_app_purchases_month</th>\n",
              "      <th>289_number_whatsapp_purchases_month</th>\n",
              "      <th>83_willingness_ultrafast_delivery</th>\n",
              "      <th>84_willingness_sameday_delivery</th>\n",
              "      <th>241_age_of_the_interviewee</th>\n",
              "      <th>240_gender_interviewee</th>\n",
              "      <th>indicate_the_type_of_store</th>\n",
              "      <th>name_of_the_store</th>\n",
              "      <th>storefront_picture_just_once_if_possible</th>\n",
              "    </tr>\n",
              "  </thead>\n",
              "  <tbody>\n",
              "    <tr>\n",
              "      <th>0</th>\n",
              "      <td>94c9c1c8-f806-4dd6-9124-0447101139ce</td>\n",
              "      <td>November 27, 2022</td>\n",
              "      <td>2022-11-27 19:17:26 UTC</td>\n",
              "      <td>Sandra Carreón</td>\n",
              "      <td>SRID=4326;POINT(-98.1980873644 19.0486653032)</td>\n",
              "      <td>19.048665</td>\n",
              "      <td>-98.198087</td>\n",
              "      <td>Efectivo</td>\n",
              "      <td>yes</td>\n",
              "      <td>NaN</td>\n",
              "      <td>...</td>\n",
              "      <td>5</td>\n",
              "      <td>4</td>\n",
              "      <td>2</td>\n",
              "      <td>250</td>\n",
              "      <td>100</td>\n",
              "      <td>18</td>\n",
              "      <td>Male</td>\n",
              "      <td>Grocery store (aka. nanostore)</td>\n",
              "      <td>MINI SUPER 3 NORTE</td>\n",
              "      <td>1 Photo</td>\n",
              "    </tr>\n",
              "    <tr>\n",
              "      <th>1</th>\n",
              "      <td>1766c0a9-8f4d-452e-b2f9-5c7f7fa6e509</td>\n",
              "      <td>November 27, 2022</td>\n",
              "      <td>2022-11-27 19:17:26 UTC</td>\n",
              "      <td>Sandra Carreón</td>\n",
              "      <td>SRID=4326;POINT(-98.198058866 19.0487039671)</td>\n",
              "      <td>19.048704</td>\n",
              "      <td>-98.198059</td>\n",
              "      <td>Efectivo</td>\n",
              "      <td>yes</td>\n",
              "      <td>NaN</td>\n",
              "      <td>...</td>\n",
              "      <td>5</td>\n",
              "      <td>3</td>\n",
              "      <td>0</td>\n",
              "      <td>300</td>\n",
              "      <td>100</td>\n",
              "      <td>17</td>\n",
              "      <td>Male</td>\n",
              "      <td>Grocery store (aka. nanostore)</td>\n",
              "      <td>MINI SUPER 3 NORTE</td>\n",
              "      <td>1 Photo</td>\n",
              "    </tr>\n",
              "    <tr>\n",
              "      <th>2</th>\n",
              "      <td>3f1e53cb-d761-48aa-be19-18d69ecbebf2</td>\n",
              "      <td>November 27, 2022</td>\n",
              "      <td>2022-11-27 19:00:55 UTC</td>\n",
              "      <td>Sandra Carreón</td>\n",
              "      <td>SRID=4326;POINT(-98.2017408684 19.0459141241)</td>\n",
              "      <td>19.045914</td>\n",
              "      <td>-98.201741</td>\n",
              "      <td>Efectivo</td>\n",
              "      <td>yes</td>\n",
              "      <td>NaN</td>\n",
              "      <td>...</td>\n",
              "      <td>9</td>\n",
              "      <td>12</td>\n",
              "      <td>2</td>\n",
              "      <td>500</td>\n",
              "      <td>300</td>\n",
              "      <td>30</td>\n",
              "      <td>Male</td>\n",
              "      <td>Grocery store (aka. nanostore)</td>\n",
              "      <td>Abarrotes licores y vinos La ranita</td>\n",
              "      <td>1 Photo</td>\n",
              "    </tr>\n",
              "    <tr>\n",
              "      <th>3</th>\n",
              "      <td>335e6647-537c-47da-9efa-805a110f6936</td>\n",
              "      <td>November 27, 2022</td>\n",
              "      <td>2022-11-27 18:51:26 UTC</td>\n",
              "      <td>Sandra Carreón</td>\n",
              "      <td>SRID=4326;POINT(-98.1981215626 19.04858956)</td>\n",
              "      <td>19.048590</td>\n",
              "      <td>-98.198122</td>\n",
              "      <td>Efectivo</td>\n",
              "      <td>yes</td>\n",
              "      <td>NaN</td>\n",
              "      <td>...</td>\n",
              "      <td>2</td>\n",
              "      <td>0</td>\n",
              "      <td>1</td>\n",
              "      <td>280</td>\n",
              "      <td>150</td>\n",
              "      <td>24</td>\n",
              "      <td>Male</td>\n",
              "      <td>Grocery store (aka. nanostore)</td>\n",
              "      <td>Miscelánea</td>\n",
              "      <td>1 Photo</td>\n",
              "    </tr>\n",
              "    <tr>\n",
              "      <th>4</th>\n",
              "      <td>902e4d41-8299-424d-834b-d1090b1743c0</td>\n",
              "      <td>November 27, 2022</td>\n",
              "      <td>2022-11-27 16:03:02 UTC</td>\n",
              "      <td>Sandra Carreón</td>\n",
              "      <td>SRID=4326;POINT(-98.1988253072 19.0441482241)</td>\n",
              "      <td>19.044148</td>\n",
              "      <td>-98.198825</td>\n",
              "      <td>Efectivo</td>\n",
              "      <td>yes</td>\n",
              "      <td>NaN</td>\n",
              "      <td>...</td>\n",
              "      <td>2</td>\n",
              "      <td>5</td>\n",
              "      <td>1</td>\n",
              "      <td>250</td>\n",
              "      <td>150</td>\n",
              "      <td>22</td>\n",
              "      <td>Female</td>\n",
              "      <td>Grocery store (aka. nanostore)</td>\n",
              "      <td>Ranita “V”</td>\n",
              "      <td>1 Photo</td>\n",
              "    </tr>\n",
              "    <tr>\n",
              "      <th>...</th>\n",
              "      <td>...</td>\n",
              "      <td>...</td>\n",
              "      <td>...</td>\n",
              "      <td>...</td>\n",
              "      <td>...</td>\n",
              "      <td>...</td>\n",
              "      <td>...</td>\n",
              "      <td>...</td>\n",
              "      <td>...</td>\n",
              "      <td>...</td>\n",
              "      <td>...</td>\n",
              "      <td>...</td>\n",
              "      <td>...</td>\n",
              "      <td>...</td>\n",
              "      <td>...</td>\n",
              "      <td>...</td>\n",
              "      <td>...</td>\n",
              "      <td>...</td>\n",
              "      <td>...</td>\n",
              "      <td>...</td>\n",
              "      <td>...</td>\n",
              "    </tr>\n",
              "    <tr>\n",
              "      <th>370</th>\n",
              "      <td>ee7ac407-4767-47b1-93b3-d7e09b49faec</td>\n",
              "      <td>November 3, 2022</td>\n",
              "      <td>2022-11-03 20:15:32 UTC</td>\n",
              "      <td>Daniel Serrano</td>\n",
              "      <td>SRID=4326;POINT(-98.2671002671 19.0352236761)</td>\n",
              "      <td>19.035224</td>\n",
              "      <td>-98.267100</td>\n",
              "      <td>Efectivo</td>\n",
              "      <td>yes</td>\n",
              "      <td>NaN</td>\n",
              "      <td>...</td>\n",
              "      <td>15</td>\n",
              "      <td>10</td>\n",
              "      <td>0</td>\n",
              "      <td>100</td>\n",
              "      <td>100</td>\n",
              "      <td>15</td>\n",
              "      <td>Male</td>\n",
              "      <td>Micro-restaurant (aka. fondita)</td>\n",
              "      <td>Taquería don Jorge</td>\n",
              "      <td>1 Photo</td>\n",
              "    </tr>\n",
              "    <tr>\n",
              "      <th>371</th>\n",
              "      <td>f65a8190-df80-440e-83bc-2639decfffd0</td>\n",
              "      <td>November 3, 2022</td>\n",
              "      <td>2022-11-03 20:05:31 UTC</td>\n",
              "      <td>Daniel Serrano</td>\n",
              "      <td>SRID=4326;POINT(-98.2678556442 19.0352804088)</td>\n",
              "      <td>19.035280</td>\n",
              "      <td>-98.267856</td>\n",
              "      <td>Efectivo</td>\n",
              "      <td>yes</td>\n",
              "      <td>NaN</td>\n",
              "      <td>...</td>\n",
              "      <td>1</td>\n",
              "      <td>1</td>\n",
              "      <td>0</td>\n",
              "      <td>50</td>\n",
              "      <td>70</td>\n",
              "      <td>21</td>\n",
              "      <td>Female</td>\n",
              "      <td>Cafeteria</td>\n",
              "      <td>La parrilla del lobo</td>\n",
              "      <td>1 Photo</td>\n",
              "    </tr>\n",
              "    <tr>\n",
              "      <th>372</th>\n",
              "      <td>70f42238-83b5-4a16-9f2e-a758efb8afb0</td>\n",
              "      <td>November 3, 2022</td>\n",
              "      <td>2022-11-03 20:04:35 UTC</td>\n",
              "      <td>Fernando Gonzálezinactivo</td>\n",
              "      <td>SRID=4326;POINT(-98.2678617 19.0354511)</td>\n",
              "      <td>19.035451</td>\n",
              "      <td>-98.267862</td>\n",
              "      <td>Efectivo</td>\n",
              "      <td>yes</td>\n",
              "      <td>NaN</td>\n",
              "      <td>...</td>\n",
              "      <td>3</td>\n",
              "      <td>2</td>\n",
              "      <td>0</td>\n",
              "      <td>0</td>\n",
              "      <td>0</td>\n",
              "      <td>18</td>\n",
              "      <td>Male</td>\n",
              "      <td>Cafeteria</td>\n",
              "      <td>La Parrilla del lobo</td>\n",
              "      <td>1 Photo</td>\n",
              "    </tr>\n",
              "    <tr>\n",
              "      <th>373</th>\n",
              "      <td>e4727f46-797f-4344-b183-0deeed11750f</td>\n",
              "      <td>November 3, 2022</td>\n",
              "      <td>2022-11-03 20:04:34 UTC</td>\n",
              "      <td>Fernando Gonzálezinactivo</td>\n",
              "      <td>SRID=4326;POINT(-98.2678314 19.0354858)</td>\n",
              "      <td>19.035486</td>\n",
              "      <td>-98.267831</td>\n",
              "      <td>Efectivo</td>\n",
              "      <td>yes</td>\n",
              "      <td>NaN</td>\n",
              "      <td>...</td>\n",
              "      <td>2</td>\n",
              "      <td>4</td>\n",
              "      <td>0</td>\n",
              "      <td>30</td>\n",
              "      <td>100</td>\n",
              "      <td>18</td>\n",
              "      <td>Male</td>\n",
              "      <td>Cafeteria</td>\n",
              "      <td>Crudopolis</td>\n",
              "      <td>1 Photo</td>\n",
              "    </tr>\n",
              "    <tr>\n",
              "      <th>374</th>\n",
              "      <td>0a5616e1-62cd-4f28-a282-9b34db145752</td>\n",
              "      <td>November 3, 2022</td>\n",
              "      <td>2022-11-03 19:58:24 UTC</td>\n",
              "      <td>Daniel Serrano</td>\n",
              "      <td>SRID=4326;POINT(-98.2679243758 19.0353989453)</td>\n",
              "      <td>19.035399</td>\n",
              "      <td>-98.267924</td>\n",
              "      <td>Efectivo</td>\n",
              "      <td>yes</td>\n",
              "      <td>NaN</td>\n",
              "      <td>...</td>\n",
              "      <td>0</td>\n",
              "      <td>3</td>\n",
              "      <td>0</td>\n",
              "      <td>150</td>\n",
              "      <td>1000</td>\n",
              "      <td>18</td>\n",
              "      <td>Male</td>\n",
              "      <td>Cafeteria</td>\n",
              "      <td>Crudopolis</td>\n",
              "      <td>1 Photo</td>\n",
              "    </tr>\n",
              "  </tbody>\n",
              "</table>\n",
              "<p>375 rows × 36 columns</p>\n",
              "</div>\n",
              "      <button class=\"colab-df-convert\" onclick=\"convertToInteractive('df-dc55872d-8a6d-445e-b374-78e427d31357')\"\n",
              "              title=\"Convert this dataframe to an interactive table.\"\n",
              "              style=\"display:none;\">\n",
              "        \n",
              "  <svg xmlns=\"http://www.w3.org/2000/svg\" height=\"24px\"viewBox=\"0 0 24 24\"\n",
              "       width=\"24px\">\n",
              "    <path d=\"M0 0h24v24H0V0z\" fill=\"none\"/>\n",
              "    <path d=\"M18.56 5.44l.94 2.06.94-2.06 2.06-.94-2.06-.94-.94-2.06-.94 2.06-2.06.94zm-11 1L8.5 8.5l.94-2.06 2.06-.94-2.06-.94L8.5 2.5l-.94 2.06-2.06.94zm10 10l.94 2.06.94-2.06 2.06-.94-2.06-.94-.94-2.06-.94 2.06-2.06.94z\"/><path d=\"M17.41 7.96l-1.37-1.37c-.4-.4-.92-.59-1.43-.59-.52 0-1.04.2-1.43.59L10.3 9.45l-7.72 7.72c-.78.78-.78 2.05 0 2.83L4 21.41c.39.39.9.59 1.41.59.51 0 1.02-.2 1.41-.59l7.78-7.78 2.81-2.81c.8-.78.8-2.07 0-2.86zM5.41 20L4 18.59l7.72-7.72 1.47 1.35L5.41 20z\"/>\n",
              "  </svg>\n",
              "      </button>\n",
              "      \n",
              "  <style>\n",
              "    .colab-df-container {\n",
              "      display:flex;\n",
              "      flex-wrap:wrap;\n",
              "      gap: 12px;\n",
              "    }\n",
              "\n",
              "    .colab-df-convert {\n",
              "      background-color: #E8F0FE;\n",
              "      border: none;\n",
              "      border-radius: 50%;\n",
              "      cursor: pointer;\n",
              "      display: none;\n",
              "      fill: #1967D2;\n",
              "      height: 32px;\n",
              "      padding: 0 0 0 0;\n",
              "      width: 32px;\n",
              "    }\n",
              "\n",
              "    .colab-df-convert:hover {\n",
              "      background-color: #E2EBFA;\n",
              "      box-shadow: 0px 1px 2px rgba(60, 64, 67, 0.3), 0px 1px 3px 1px rgba(60, 64, 67, 0.15);\n",
              "      fill: #174EA6;\n",
              "    }\n",
              "\n",
              "    [theme=dark] .colab-df-convert {\n",
              "      background-color: #3B4455;\n",
              "      fill: #D2E3FC;\n",
              "    }\n",
              "\n",
              "    [theme=dark] .colab-df-convert:hover {\n",
              "      background-color: #434B5C;\n",
              "      box-shadow: 0px 1px 3px 1px rgba(0, 0, 0, 0.15);\n",
              "      filter: drop-shadow(0px 1px 2px rgba(0, 0, 0, 0.3));\n",
              "      fill: #FFFFFF;\n",
              "    }\n",
              "  </style>\n",
              "\n",
              "      <script>\n",
              "        const buttonEl =\n",
              "          document.querySelector('#df-dc55872d-8a6d-445e-b374-78e427d31357 button.colab-df-convert');\n",
              "        buttonEl.style.display =\n",
              "          google.colab.kernel.accessAllowed ? 'block' : 'none';\n",
              "\n",
              "        async function convertToInteractive(key) {\n",
              "          const element = document.querySelector('#df-dc55872d-8a6d-445e-b374-78e427d31357');\n",
              "          const dataTable =\n",
              "            await google.colab.kernel.invokeFunction('convertToInteractive',\n",
              "                                                     [key], {});\n",
              "          if (!dataTable) return;\n",
              "\n",
              "          const docLinkHtml = 'Like what you see? Visit the ' +\n",
              "            '<a target=\"_blank\" href=https://colab.research.google.com/notebooks/data_table.ipynb>data table notebook</a>'\n",
              "            + ' to learn more about interactive tables.';\n",
              "          element.innerHTML = '';\n",
              "          dataTable['output_type'] = 'display_data';\n",
              "          await google.colab.output.renderOutput(dataTable, element);\n",
              "          const docLink = document.createElement('div');\n",
              "          docLink.innerHTML = docLinkHtml;\n",
              "          element.appendChild(docLink);\n",
              "        }\n",
              "      </script>\n",
              "    </div>\n",
              "  </div>\n",
              "  "
            ]
          },
          "metadata": {},
          "execution_count": 4
        }
      ]
    },
    {
      "cell_type": "code",
      "source": [
        "#vemos su informacion\n",
        "data1.info()"
      ],
      "metadata": {
        "id": "QSMHyuy5d_uM"
      },
      "execution_count": null,
      "outputs": []
    },
    {
      "cell_type": "code",
      "source": [
        "#Verificamos los valores nulos\n",
        "valores_nulos=data1.isnull().sum()\n",
        "valores_nulos"
      ],
      "metadata": {
        "id": "_SOTgwEceIL_",
        "colab": {
          "base_uri": "https://localhost:8080/"
        },
        "outputId": "cb841ea5-fb24-41e4-e9de-b2ae3cde0ced"
      },
      "execution_count": null,
      "outputs": [
        {
          "output_type": "execute_result",
          "data": {
            "text/plain": [
              "_record_id                                    0\n",
              "_title                                        0\n",
              "_server_updated_at                            0\n",
              "_updated_by                                   0\n",
              "_geometry                                     0\n",
              "_latitude                                     0\n",
              "_longitude                                    0\n",
              "282_payment_method_that_purchase              0\n",
              "283_fulfill_needs                             0\n",
              "300_did_not_find                            352\n",
              "237_distance_household_interviewee            0\n",
              "299_means_transportation_consumer             0\n",
              "238_frequency_buying_store                    0\n",
              "284_additional_products_store               363\n",
              "301_electricity_bill                          0\n",
              "305_electricity_bill_store                   29\n",
              "302_water_bill                                0\n",
              "306_water_bill_store                         14\n",
              "303_gas_bill                                  0\n",
              "307_gas_bill_store                            7\n",
              "286_topups                                    0\n",
              "308_topups_in_store                          73\n",
              "287_wire_transfers                            0\n",
              "309_wiretransfers_in_store                    7\n",
              "320_other_services_in_store                   0\n",
              "304_additional_services_store               294\n",
              "81_number_online_purchases_month              0\n",
              "288_number_app_purchases_month                0\n",
              "289_number_whatsapp_purchases_month           0\n",
              "83_willingness_ultrafast_delivery             0\n",
              "84_willingness_sameday_delivery               0\n",
              "241_age_of_the_interviewee                    0\n",
              "240_gender_interviewee                        0\n",
              "indicate_the_type_of_store                    0\n",
              "name_of_the_store                             0\n",
              "storefront_picture_just_once_if_possible     65\n",
              "dtype: int64"
            ]
          },
          "metadata": {},
          "execution_count": 6
        }
      ]
    },
    {
      "cell_type": "code",
      "source": [
        "#reemplazamos los valores nulos con la palabra nulo\n",
        "data=data1.copy()\n",
        "data[\"300_did_not_find\"] =data[\"300_did_not_find\"].fillna(\"nulo\")\n",
        "data[\"284_additional_products_store\"] =data[\"284_additional_products_store\"].fillna(\"nulo\")\n",
        "data[\"305_electricity_bill_store\"] =data[\"305_electricity_bill_store\"].fillna(\"nulo\")\n",
        "data[\"306_water_bill_store\"] =data[\"306_water_bill_store\"].fillna(\"nulo\")\n",
        "data[\"308_topups_in_store\"] =data[\"308_topups_in_store\"].fillna(\"nulo\")\n",
        "data[\"304_additional_services_store\"] =data[\"304_additional_services_store\"].fillna(\"nulo\")\n",
        "data[\"storefront_picture_just_once_if_possible\"] =data[\"storefront_picture_just_once_if_possible\"].fillna(\"nulo\")\n",
        "data[\"309_wiretransfers_in_store\"] =data[\"309_wiretransfers_in_store\"].fillna(\"nulo\")"
      ],
      "metadata": {
        "id": "7h3U-Eb3eL30"
      },
      "execution_count": null,
      "outputs": []
    },
    {
      "cell_type": "code",
      "source": [
        "#verificamos valores nulos\n",
        "valores_nulos=data.isnull().sum()\n",
        "valores_nulos"
      ],
      "metadata": {
        "id": "DaflIyY-ers6",
        "colab": {
          "base_uri": "https://localhost:8080/"
        },
        "outputId": "44ab50b3-fc71-4caf-c255-ba11ae3b3793"
      },
      "execution_count": null,
      "outputs": [
        {
          "output_type": "execute_result",
          "data": {
            "text/plain": [
              "_record_id                                  0\n",
              "_title                                      0\n",
              "_server_updated_at                          0\n",
              "_updated_by                                 0\n",
              "_geometry                                   0\n",
              "_latitude                                   0\n",
              "_longitude                                  0\n",
              "282_payment_method_that_purchase            0\n",
              "283_fulfill_needs                           0\n",
              "300_did_not_find                            0\n",
              "237_distance_household_interviewee          0\n",
              "299_means_transportation_consumer           0\n",
              "238_frequency_buying_store                  0\n",
              "284_additional_products_store               0\n",
              "301_electricity_bill                        0\n",
              "305_electricity_bill_store                  0\n",
              "302_water_bill                              0\n",
              "306_water_bill_store                        0\n",
              "303_gas_bill                                0\n",
              "307_gas_bill_store                          7\n",
              "286_topups                                  0\n",
              "308_topups_in_store                         0\n",
              "287_wire_transfers                          0\n",
              "309_wiretransfers_in_store                  0\n",
              "320_other_services_in_store                 0\n",
              "304_additional_services_store               0\n",
              "81_number_online_purchases_month            0\n",
              "288_number_app_purchases_month              0\n",
              "289_number_whatsapp_purchases_month         0\n",
              "83_willingness_ultrafast_delivery           0\n",
              "84_willingness_sameday_delivery             0\n",
              "241_age_of_the_interviewee                  0\n",
              "240_gender_interviewee                      0\n",
              "indicate_the_type_of_store                  0\n",
              "name_of_the_store                           0\n",
              "storefront_picture_just_once_if_possible    0\n",
              "dtype: int64"
            ]
          },
          "metadata": {},
          "execution_count": 8
        }
      ]
    },
    {
      "cell_type": "code",
      "source": [
        "#aplicamos filtro\n",
        "filtro1=data.iloc[ : , [0,1,2,3,4,7,8,9,10,11,13,14,15,16,17,18,19,20,21,22,23,24,25,32,33,34,35]] #obj\n",
        "filtro2=data.iloc[ : , [12,26,27,28,29,30,31]]    #int\n",
        "filtro3=data.iloc[ : , [5,6]]     #float"
      ],
      "metadata": {
        "id": "9FUEelZaewyp"
      },
      "execution_count": null,
      "outputs": []
    },
    {
      "cell_type": "code",
      "source": [
        "#hacemos una grafica de valores atipicos\n",
        "fig = plt.figure(figsize =(15, 8))\n",
        "filtro2.plot(kind='box', vert=False)\n",
        "plt.title(\"Valores Atípicos del Dataframe\")\n",
        "plt.show()"
      ],
      "metadata": {
        "id": "ZcO_sCR2e4iw",
        "colab": {
          "base_uri": "https://localhost:8080/",
          "height": 298
        },
        "outputId": "f131502c-a30a-44e0-8614-085a541148a9"
      },
      "execution_count": null,
      "outputs": [
        {
          "output_type": "display_data",
          "data": {
            "text/plain": [
              "<Figure size 1080x576 with 0 Axes>"
            ]
          },
          "metadata": {}
        },
        {
          "output_type": "display_data",
          "data": {
            "text/plain": [
              "<Figure size 432x288 with 1 Axes>"
            ],
            "image/png": "[encoded data removed]"
          },
          "metadata": {
            "needs_background": "light"
          }
        }
      ]
    },
    {
      "cell_type": "code",
      "source": [
        "#hacemos uso del metodo de cuartiles \n",
        "y=filtro2\n",
        "\n",
        "percentile25=y.quantile(0.25) #Q1\n",
        "percentile75=y.quantile(0.75) #Q3\n",
        "iqr= percentile75 - percentile25\n",
        "\n",
        "Limite_Superior_iqr= percentile75 + 1.5*iqr\n",
        "Limite_Inferior_iqr= percentile25 - 1.5*iqr\n",
        "print(\"Limite superior permitido\", Limite_Superior_iqr)\n",
        "print(\"Limite inferior permitido\", Limite_Inferior_iqr)"
      ],
      "metadata": {
        "id": "2LHtPvsyfBWE",
        "colab": {
          "base_uri": "https://localhost:8080/"
        },
        "outputId": "e78555e1-4467-4121-f9cf-e34135f9cb0c"
      },
      "execution_count": null,
      "outputs": [
        {
          "output_type": "stream",
          "name": "stdout",
          "text": [
            "Limite superior permitido 238_frequency_buying_store               6.0\n",
            "81_number_online_purchases_month         7.5\n",
            "288_number_app_purchases_month          12.5\n",
            "289_number_whatsapp_purchases_month      2.5\n",
            "83_willingness_ultrafast_delivery      145.0\n",
            "84_willingness_sameday_delivery        235.0\n",
            "241_age_of_the_interviewee              73.5\n",
            "dtype: float64\n",
            "Limite inferior permitido 238_frequency_buying_store              -2.0\n",
            "81_number_online_purchases_month        -4.5\n",
            "288_number_app_purchases_month          -7.5\n",
            "289_number_whatsapp_purchases_month     -1.5\n",
            "83_willingness_ultrafast_delivery      -55.0\n",
            "84_willingness_sameday_delivery       -125.0\n",
            "241_age_of_the_interviewee             -10.5\n",
            "dtype: float64\n"
          ]
        }
      ]
    },
    {
      "cell_type": "code",
      "source": [
        "#mostramos los limites \n",
        "outliers_iqr= filtro2[(y<=Limite_Superior_iqr)&(y>=Limite_Inferior_iqr)]\n",
        "outliers_iqr"
      ],
      "metadata": {
        "id": "sIvArCG7f4NY",
        "colab": {
          "base_uri": "https://localhost:8080/",
          "height": 488
        },
        "outputId": "add1f95f-a7ad-4708-d82e-d02ae00491fa"
      },
      "execution_count": null,
      "outputs": [
        {
          "output_type": "execute_result",
          "data": {
            "text/plain": [
              "     238_frequency_buying_store  81_number_online_purchases_month  \\\n",
              "0                           1.0                               5.0   \n",
              "1                           2.0                               5.0   \n",
              "2                           2.0                               NaN   \n",
              "3                           3.0                               2.0   \n",
              "4                           2.0                               2.0   \n",
              "..                          ...                               ...   \n",
              "370                         1.0                               NaN   \n",
              "371                         1.0                               1.0   \n",
              "372                         1.0                               3.0   \n",
              "373                         1.0                               2.0   \n",
              "374                         1.0                               0.0   \n",
              "\n",
              "     288_number_app_purchases_month  289_number_whatsapp_purchases_month  \\\n",
              "0                               4.0                                  2.0   \n",
              "1                               3.0                                  0.0   \n",
              "2                              12.0                                  2.0   \n",
              "3                               0.0                                  1.0   \n",
              "4                               5.0                                  1.0   \n",
              "..                              ...                                  ...   \n",
              "370                            10.0                                  0.0   \n",
              "371                             1.0                                  0.0   \n",
              "372                             2.0                                  0.0   \n",
              "373                             4.0                                  0.0   \n",
              "374                             3.0                                  0.0   \n",
              "\n",
              "     83_willingness_ultrafast_delivery  84_willingness_sameday_delivery  \\\n",
              "0                                  NaN                            100.0   \n",
              "1                                  NaN                            100.0   \n",
              "2                                  NaN                              NaN   \n",
              "3                                  NaN                            150.0   \n",
              "4                                  NaN                            150.0   \n",
              "..                                 ...                              ...   \n",
              "370                              100.0                            100.0   \n",
              "371                               50.0                             70.0   \n",
              "372                                0.0                              0.0   \n",
              "373                               30.0                            100.0   \n",
              "374                                NaN                              NaN   \n",
              "\n",
              "     241_age_of_the_interviewee  \n",
              "0                          18.0  \n",
              "1                          17.0  \n",
              "2                          30.0  \n",
              "3                          24.0  \n",
              "4                          22.0  \n",
              "..                          ...  \n",
              "370                        15.0  \n",
              "371                        21.0  \n",
              "372                        18.0  \n",
              "373                        18.0  \n",
              "374                        18.0  \n",
              "\n",
              "[375 rows x 7 columns]"
            ],
            "text/html": [
              "\n",
              "  <div id=\"df-717bab52-9ba2-4804-b9e5-ba87175c604b\">\n",
              "    <div class=\"colab-df-container\">\n",
              "      <div>\n",
              "<style scoped>\n",
              "    .dataframe tbody tr th:only-of-type {\n",
              "        vertical-align: middle;\n",
              "    }\n",
              "\n",
              "    .dataframe tbody tr th {\n",
              "        vertical-align: top;\n",
              "    }\n",
              "\n",
              "    .dataframe thead th {\n",
              "        text-align: right;\n",
              "    }\n",
              "</style>\n",
              "<table border=\"1\" class=\"dataframe\">\n",
              "  <thead>\n",
              "    <tr style=\"text-align: right;\">\n",
              "      <th></th>\n",
              "      <th>238_frequency_buying_store</th>\n",
              "      <th>81_number_online_purchases_month</th>\n",
              "      <th>288_number_app_purchases_month</th>\n",
              "      <th>289_number_whatsapp_purchases_month</th>\n",
              "      <th>83_willingness_ultrafast_delivery</th>\n",
              "      <th>84_willingness_sameday_delivery</th>\n",
              "      <th>241_age_of_the_interviewee</th>\n",
              "    </tr>\n",
              "  </thead>\n",
              "  <tbody>\n",
              "    <tr>\n",
              "      <th>0</th>\n",
              "      <td>1.0</td>\n",
              "      <td>5.0</td>\n",
              "      <td>4.0</td>\n",
              "      <td>2.0</td>\n",
              "      <td>NaN</td>\n",
              "      <td>100.0</td>\n",
              "      <td>18.0</td>\n",
              "    </tr>\n",
              "    <tr>\n",
              "      <th>1</th>\n",
              "      <td>2.0</td>\n",
              "      <td>5.0</td>\n",
              "      <td>3.0</td>\n",
              "      <td>0.0</td>\n",
              "      <td>NaN</td>\n",
              "      <td>100.0</td>\n",
              "      <td>17.0</td>\n",
              "    </tr>\n",
              "    <tr>\n",
              "      <th>2</th>\n",
              "      <td>2.0</td>\n",
              "      <td>NaN</td>\n",
              "      <td>12.0</td>\n",
              "      <td>2.0</td>\n",
              "      <td>NaN</td>\n",
              "      <td>NaN</td>\n",
              "      <td>30.0</td>\n",
              "    </tr>\n",
              "    <tr>\n",
              "      <th>3</th>\n",
              "      <td>3.0</td>\n",
              "      <td>2.0</td>\n",
              "      <td>0.0</td>\n",
              "      <td>1.0</td>\n",
              "      <td>NaN</td>\n",
              "      <td>150.0</td>\n",
              "      <td>24.0</td>\n",
              "    </tr>\n",
              "    <tr>\n",
              "      <th>4</th>\n",
              "      <td>2.0</td>\n",
              "      <td>2.0</td>\n",
              "      <td>5.0</td>\n",
              "      <td>1.0</td>\n",
              "      <td>NaN</td>\n",
              "      <td>150.0</td>\n",
              "      <td>22.0</td>\n",
              "    </tr>\n",
              "    <tr>\n",
              "      <th>...</th>\n",
              "      <td>...</td>\n",
              "      <td>...</td>\n",
              "      <td>...</td>\n",
              "      <td>...</td>\n",
              "      <td>...</td>\n",
              "      <td>...</td>\n",
              "      <td>...</td>\n",
              "    </tr>\n",
              "    <tr>\n",
              "      <th>370</th>\n",
              "      <td>1.0</td>\n",
              "      <td>NaN</td>\n",
              "      <td>10.0</td>\n",
              "      <td>0.0</td>\n",
              "      <td>100.0</td>\n",
              "      <td>100.0</td>\n",
              "      <td>15.0</td>\n",
              "    </tr>\n",
              "    <tr>\n",
              "      <th>371</th>\n",
              "      <td>1.0</td>\n",
              "      <td>1.0</td>\n",
              "      <td>1.0</td>\n",
              "      <td>0.0</td>\n",
              "      <td>50.0</td>\n",
              "      <td>70.0</td>\n",
              "      <td>21.0</td>\n",
              "    </tr>\n",
              "    <tr>\n",
              "      <th>372</th>\n",
              "      <td>1.0</td>\n",
              "      <td>3.0</td>\n",
              "      <td>2.0</td>\n",
              "      <td>0.0</td>\n",
              "      <td>0.0</td>\n",
              "      <td>0.0</td>\n",
              "      <td>18.0</td>\n",
              "    </tr>\n",
              "    <tr>\n",
              "      <th>373</th>\n",
              "      <td>1.0</td>\n",
              "      <td>2.0</td>\n",
              "      <td>4.0</td>\n",
              "      <td>0.0</td>\n",
              "      <td>30.0</td>\n",
              "      <td>100.0</td>\n",
              "      <td>18.0</td>\n",
              "    </tr>\n",
              "    <tr>\n",
              "      <th>374</th>\n",
              "      <td>1.0</td>\n",
              "      <td>0.0</td>\n",
              "      <td>3.0</td>\n",
              "      <td>0.0</td>\n",
              "      <td>NaN</td>\n",
              "      <td>NaN</td>\n",
              "      <td>18.0</td>\n",
              "    </tr>\n",
              "  </tbody>\n",
              "</table>\n",
              "<p>375 rows × 7 columns</p>\n",
              "</div>\n",
              "      <button class=\"colab-df-convert\" onclick=\"convertToInteractive('df-717bab52-9ba2-4804-b9e5-ba87175c604b')\"\n",
              "              title=\"Convert this dataframe to an interactive table.\"\n",
              "              style=\"display:none;\">\n",
              "        \n",
              "  <svg xmlns=\"http://www.w3.org/2000/svg\" height=\"24px\"viewBox=\"0 0 24 24\"\n",
              "       width=\"24px\">\n",
              "    <path d=\"M0 0h24v24H0V0z\" fill=\"none\"/>\n",
              "    <path d=\"M18.56 5.44l.94 2.06.94-2.06 2.06-.94-2.06-.94-.94-2.06-.94 2.06-2.06.94zm-11 1L8.5 8.5l.94-2.06 2.06-.94-2.06-.94L8.5 2.5l-.94 2.06-2.06.94zm10 10l.94 2.06.94-2.06 2.06-.94-2.06-.94-.94-2.06-.94 2.06-2.06.94z\"/><path d=\"M17.41 7.96l-1.37-1.37c-.4-.4-.92-.59-1.43-.59-.52 0-1.04.2-1.43.59L10.3 9.45l-7.72 7.72c-.78.78-.78 2.05 0 2.83L4 21.41c.39.39.9.59 1.41.59.51 0 1.02-.2 1.41-.59l7.78-7.78 2.81-2.81c.8-.78.8-2.07 0-2.86zM5.41 20L4 18.59l7.72-7.72 1.47 1.35L5.41 20z\"/>\n",
              "  </svg>\n",
              "      </button>\n",
              "      \n",
              "  <style>\n",
              "    .colab-df-container {\n",
              "      display:flex;\n",
              "      flex-wrap:wrap;\n",
              "      gap: 12px;\n",
              "    }\n",
              "\n",
              "    .colab-df-convert {\n",
              "      background-color: #E8F0FE;\n",
              "      border: none;\n",
              "      border-radius: 50%;\n",
              "      cursor: pointer;\n",
              "      display: none;\n",
              "      fill: #1967D2;\n",
              "      height: 32px;\n",
              "      padding: 0 0 0 0;\n",
              "      width: 32px;\n",
              "    }\n",
              "\n",
              "    .colab-df-convert:hover {\n",
              "      background-color: #E2EBFA;\n",
              "      box-shadow: 0px 1px 2px rgba(60, 64, 67, 0.3), 0px 1px 3px 1px rgba(60, 64, 67, 0.15);\n",
              "      fill: #174EA6;\n",
              "    }\n",
              "\n",
              "    [theme=dark] .colab-df-convert {\n",
              "      background-color: #3B4455;\n",
              "      fill: #D2E3FC;\n",
              "    }\n",
              "\n",
              "    [theme=dark] .colab-df-convert:hover {\n",
              "      background-color: #434B5C;\n",
              "      box-shadow: 0px 1px 3px 1px rgba(0, 0, 0, 0.15);\n",
              "      filter: drop-shadow(0px 1px 2px rgba(0, 0, 0, 0.3));\n",
              "      fill: #FFFFFF;\n",
              "    }\n",
              "  </style>\n",
              "\n",
              "      <script>\n",
              "        const buttonEl =\n",
              "          document.querySelector('#df-717bab52-9ba2-4804-b9e5-ba87175c604b button.colab-df-convert');\n",
              "        buttonEl.style.display =\n",
              "          google.colab.kernel.accessAllowed ? 'block' : 'none';\n",
              "\n",
              "        async function convertToInteractive(key) {\n",
              "          const element = document.querySelector('#df-717bab52-9ba2-4804-b9e5-ba87175c604b');\n",
              "          const dataTable =\n",
              "            await google.colab.kernel.invokeFunction('convertToInteractive',\n",
              "                                                     [key], {});\n",
              "          if (!dataTable) return;\n",
              "\n",
              "          const docLinkHtml = 'Like what you see? Visit the ' +\n",
              "            '<a target=\"_blank\" href=https://colab.research.google.com/notebooks/data_table.ipynb>data table notebook</a>'\n",
              "            + ' to learn more about interactive tables.';\n",
              "          element.innerHTML = '';\n",
              "          dataTable['output_type'] = 'display_data';\n",
              "          await google.colab.output.renderOutput(dataTable, element);\n",
              "          const docLink = document.createElement('div');\n",
              "          docLink.innerHTML = docLinkHtml;\n",
              "          element.appendChild(docLink);\n",
              "        }\n",
              "      </script>\n",
              "    </div>\n",
              "  </div>\n",
              "  "
            ]
          },
          "metadata": {},
          "execution_count": 13
        }
      ]
    },
    {
      "cell_type": "code",
      "source": [
        "#Reemplazamos valores atipicos (nulos) del dataframe con \"mean\"\n",
        "#Realizamos una copia del dataframe \n",
        "Valores_finales= outliers_iqr.copy()\n",
        "Valores_finales=Valores_finales.fillna(round(outliers_iqr.mean(),1))\n",
        "Valores_finales"
      ],
      "metadata": {
        "id": "5WpC6ioyfa44",
        "colab": {
          "base_uri": "https://localhost:8080/",
          "height": 488
        },
        "outputId": "cf0c3ac4-dbbb-4c59-8d55-659be368d0b8"
      },
      "execution_count": null,
      "outputs": [
        {
          "output_type": "execute_result",
          "data": {
            "text/plain": [
              "     238_frequency_buying_store  81_number_online_purchases_month  \\\n",
              "0                           1.0                               5.0   \n",
              "1                           2.0                               5.0   \n",
              "2                           2.0                               1.9   \n",
              "3                           3.0                               2.0   \n",
              "4                           2.0                               2.0   \n",
              "..                          ...                               ...   \n",
              "370                         1.0                               1.9   \n",
              "371                         1.0                               1.0   \n",
              "372                         1.0                               3.0   \n",
              "373                         1.0                               2.0   \n",
              "374                         1.0                               0.0   \n",
              "\n",
              "     288_number_app_purchases_month  289_number_whatsapp_purchases_month  \\\n",
              "0                               4.0                                  2.0   \n",
              "1                               3.0                                  0.0   \n",
              "2                              12.0                                  2.0   \n",
              "3                               0.0                                  1.0   \n",
              "4                               5.0                                  1.0   \n",
              "..                              ...                                  ...   \n",
              "370                            10.0                                  0.0   \n",
              "371                             1.0                                  0.0   \n",
              "372                             2.0                                  0.0   \n",
              "373                             4.0                                  0.0   \n",
              "374                             3.0                                  0.0   \n",
              "\n",
              "     83_willingness_ultrafast_delivery  84_willingness_sameday_delivery  \\\n",
              "0                                 35.9                            100.0   \n",
              "1                                 35.9                            100.0   \n",
              "2                                 35.9                             51.6   \n",
              "3                                 35.9                            150.0   \n",
              "4                                 35.9                            150.0   \n",
              "..                                 ...                              ...   \n",
              "370                              100.0                            100.0   \n",
              "371                               50.0                             70.0   \n",
              "372                                0.0                              0.0   \n",
              "373                               30.0                            100.0   \n",
              "374                               35.9                             51.6   \n",
              "\n",
              "     241_age_of_the_interviewee  \n",
              "0                          18.0  \n",
              "1                          17.0  \n",
              "2                          30.0  \n",
              "3                          24.0  \n",
              "4                          22.0  \n",
              "..                          ...  \n",
              "370                        15.0  \n",
              "371                        21.0  \n",
              "372                        18.0  \n",
              "373                        18.0  \n",
              "374                        18.0  \n",
              "\n",
              "[375 rows x 7 columns]"
            ],
            "text/html": [
              "\n",
              "  <div id=\"df-28c5da37-2c2e-4d11-b46c-64cb616bb51a\">\n",
              "    <div class=\"colab-df-container\">\n",
              "      <div>\n",
              "<style scoped>\n",
              "    .dataframe tbody tr th:only-of-type {\n",
              "        vertical-align: middle;\n",
              "    }\n",
              "\n",
              "    .dataframe tbody tr th {\n",
              "        vertical-align: top;\n",
              "    }\n",
              "\n",
              "    .dataframe thead th {\n",
              "        text-align: right;\n",
              "    }\n",
              "</style>\n",
              "<table border=\"1\" class=\"dataframe\">\n",
              "  <thead>\n",
              "    <tr style=\"text-align: right;\">\n",
              "      <th></th>\n",
              "      <th>238_frequency_buying_store</th>\n",
              "      <th>81_number_online_purchases_month</th>\n",
              "      <th>288_number_app_purchases_month</th>\n",
              "      <th>289_number_whatsapp_purchases_month</th>\n",
              "      <th>83_willingness_ultrafast_delivery</th>\n",
              "      <th>84_willingness_sameday_delivery</th>\n",
              "      <th>241_age_of_the_interviewee</th>\n",
              "    </tr>\n",
              "  </thead>\n",
              "  <tbody>\n",
              "    <tr>\n",
              "      <th>0</th>\n",
              "      <td>1.0</td>\n",
              "      <td>5.0</td>\n",
              "      <td>4.0</td>\n",
              "      <td>2.0</td>\n",
              "      <td>35.9</td>\n",
              "      <td>100.0</td>\n",
              "      <td>18.0</td>\n",
              "    </tr>\n",
              "    <tr>\n",
              "      <th>1</th>\n",
              "      <td>2.0</td>\n",
              "      <td>5.0</td>\n",
              "      <td>3.0</td>\n",
              "      <td>0.0</td>\n",
              "      <td>35.9</td>\n",
              "      <td>100.0</td>\n",
              "      <td>17.0</td>\n",
              "    </tr>\n",
              "    <tr>\n",
              "      <th>2</th>\n",
              "      <td>2.0</td>\n",
              "      <td>1.9</td>\n",
              "      <td>12.0</td>\n",
              "      <td>2.0</td>\n",
              "      <td>35.9</td>\n",
              "      <td>51.6</td>\n",
              "      <td>30.0</td>\n",
              "    </tr>\n",
              "    <tr>\n",
              "      <th>3</th>\n",
              "      <td>3.0</td>\n",
              "      <td>2.0</td>\n",
              "      <td>0.0</td>\n",
              "      <td>1.0</td>\n",
              "      <td>35.9</td>\n",
              "      <td>150.0</td>\n",
              "      <td>24.0</td>\n",
              "    </tr>\n",
              "    <tr>\n",
              "      <th>4</th>\n",
              "      <td>2.0</td>\n",
              "      <td>2.0</td>\n",
              "      <td>5.0</td>\n",
              "      <td>1.0</td>\n",
              "      <td>35.9</td>\n",
              "      <td>150.0</td>\n",
              "      <td>22.0</td>\n",
              "    </tr>\n",
              "    <tr>\n",
              "      <th>...</th>\n",
              "      <td>...</td>\n",
              "      <td>...</td>\n",
              "      <td>...</td>\n",
              "      <td>...</td>\n",
              "      <td>...</td>\n",
              "      <td>...</td>\n",
              "      <td>...</td>\n",
              "    </tr>\n",
              "    <tr>\n",
              "      <th>370</th>\n",
              "      <td>1.0</td>\n",
              "      <td>1.9</td>\n",
              "      <td>10.0</td>\n",
              "      <td>0.0</td>\n",
              "      <td>100.0</td>\n",
              "      <td>100.0</td>\n",
              "      <td>15.0</td>\n",
              "    </tr>\n",
              "    <tr>\n",
              "      <th>371</th>\n",
              "      <td>1.0</td>\n",
              "      <td>1.0</td>\n",
              "      <td>1.0</td>\n",
              "      <td>0.0</td>\n",
              "      <td>50.0</td>\n",
              "      <td>70.0</td>\n",
              "      <td>21.0</td>\n",
              "    </tr>\n",
              "    <tr>\n",
              "      <th>372</th>\n",
              "      <td>1.0</td>\n",
              "      <td>3.0</td>\n",
              "      <td>2.0</td>\n",
              "      <td>0.0</td>\n",
              "      <td>0.0</td>\n",
              "      <td>0.0</td>\n",
              "      <td>18.0</td>\n",
              "    </tr>\n",
              "    <tr>\n",
              "      <th>373</th>\n",
              "      <td>1.0</td>\n",
              "      <td>2.0</td>\n",
              "      <td>4.0</td>\n",
              "      <td>0.0</td>\n",
              "      <td>30.0</td>\n",
              "      <td>100.0</td>\n",
              "      <td>18.0</td>\n",
              "    </tr>\n",
              "    <tr>\n",
              "      <th>374</th>\n",
              "      <td>1.0</td>\n",
              "      <td>0.0</td>\n",
              "      <td>3.0</td>\n",
              "      <td>0.0</td>\n",
              "      <td>35.9</td>\n",
              "      <td>51.6</td>\n",
              "      <td>18.0</td>\n",
              "    </tr>\n",
              "  </tbody>\n",
              "</table>\n",
              "<p>375 rows × 7 columns</p>\n",
              "</div>\n",
              "      <button class=\"colab-df-convert\" onclick=\"convertToInteractive('df-28c5da37-2c2e-4d11-b46c-64cb616bb51a')\"\n",
              "              title=\"Convert this dataframe to an interactive table.\"\n",
              "              style=\"display:none;\">\n",
              "        \n",
              "  <svg xmlns=\"http://www.w3.org/2000/svg\" height=\"24px\"viewBox=\"0 0 24 24\"\n",
              "       width=\"24px\">\n",
              "    <path d=\"M0 0h24v24H0V0z\" fill=\"none\"/>\n",
              "    <path d=\"M18.56 5.44l.94 2.06.94-2.06 2.06-.94-2.06-.94-.94-2.06-.94 2.06-2.06.94zm-11 1L8.5 8.5l.94-2.06 2.06-.94-2.06-.94L8.5 2.5l-.94 2.06-2.06.94zm10 10l.94 2.06.94-2.06 2.06-.94-2.06-.94-.94-2.06-.94 2.06-2.06.94z\"/><path d=\"M17.41 7.96l-1.37-1.37c-.4-.4-.92-.59-1.43-.59-.52 0-1.04.2-1.43.59L10.3 9.45l-7.72 7.72c-.78.78-.78 2.05 0 2.83L4 21.41c.39.39.9.59 1.41.59.51 0 1.02-.2 1.41-.59l7.78-7.78 2.81-2.81c.8-.78.8-2.07 0-2.86zM5.41 20L4 18.59l7.72-7.72 1.47 1.35L5.41 20z\"/>\n",
              "  </svg>\n",
              "      </button>\n",
              "      \n",
              "  <style>\n",
              "    .colab-df-container {\n",
              "      display:flex;\n",
              "      flex-wrap:wrap;\n",
              "      gap: 12px;\n",
              "    }\n",
              "\n",
              "    .colab-df-convert {\n",
              "      background-color: #E8F0FE;\n",
              "      border: none;\n",
              "      border-radius: 50%;\n",
              "      cursor: pointer;\n",
              "      display: none;\n",
              "      fill: #1967D2;\n",
              "      height: 32px;\n",
              "      padding: 0 0 0 0;\n",
              "      width: 32px;\n",
              "    }\n",
              "\n",
              "    .colab-df-convert:hover {\n",
              "      background-color: #E2EBFA;\n",
              "      box-shadow: 0px 1px 2px rgba(60, 64, 67, 0.3), 0px 1px 3px 1px rgba(60, 64, 67, 0.15);\n",
              "      fill: #174EA6;\n",
              "    }\n",
              "\n",
              "    [theme=dark] .colab-df-convert {\n",
              "      background-color: #3B4455;\n",
              "      fill: #D2E3FC;\n",
              "    }\n",
              "\n",
              "    [theme=dark] .colab-df-convert:hover {\n",
              "      background-color: #434B5C;\n",
              "      box-shadow: 0px 1px 3px 1px rgba(0, 0, 0, 0.15);\n",
              "      filter: drop-shadow(0px 1px 2px rgba(0, 0, 0, 0.3));\n",
              "      fill: #FFFFFF;\n",
              "    }\n",
              "  </style>\n",
              "\n",
              "      <script>\n",
              "        const buttonEl =\n",
              "          document.querySelector('#df-28c5da37-2c2e-4d11-b46c-64cb616bb51a button.colab-df-convert');\n",
              "        buttonEl.style.display =\n",
              "          google.colab.kernel.accessAllowed ? 'block' : 'none';\n",
              "\n",
              "        async function convertToInteractive(key) {\n",
              "          const element = document.querySelector('#df-28c5da37-2c2e-4d11-b46c-64cb616bb51a');\n",
              "          const dataTable =\n",
              "            await google.colab.kernel.invokeFunction('convertToInteractive',\n",
              "                                                     [key], {});\n",
              "          if (!dataTable) return;\n",
              "\n",
              "          const docLinkHtml = 'Like what you see? Visit the ' +\n",
              "            '<a target=\"_blank\" href=https://colab.research.google.com/notebooks/data_table.ipynb>data table notebook</a>'\n",
              "            + ' to learn more about interactive tables.';\n",
              "          element.innerHTML = '';\n",
              "          dataTable['output_type'] = 'display_data';\n",
              "          await google.colab.output.renderOutput(dataTable, element);\n",
              "          const docLink = document.createElement('div');\n",
              "          docLink.innerHTML = docLinkHtml;\n",
              "          element.appendChild(docLink);\n",
              "        }\n",
              "      </script>\n",
              "    </div>\n",
              "  </div>\n",
              "  "
            ]
          },
          "metadata": {},
          "execution_count": 14
        }
      ]
    },
    {
      "cell_type": "code",
      "source": [
        "#vemos los valores nulos\n",
        "valores_nulos=Valores_finales.isnull().sum()\n",
        "valores_nulos"
      ],
      "metadata": {
        "id": "3rLi8nEIgDtz",
        "colab": {
          "base_uri": "https://localhost:8080/"
        },
        "outputId": "a2538f7c-f7a6-4c37-bf8b-11a1c9e91f0c"
      },
      "execution_count": null,
      "outputs": [
        {
          "output_type": "execute_result",
          "data": {
            "text/plain": [
              "238_frequency_buying_store             0\n",
              "81_number_online_purchases_month       0\n",
              "288_number_app_purchases_month         0\n",
              "289_number_whatsapp_purchases_month    0\n",
              "83_willingness_ultrafast_delivery      0\n",
              "84_willingness_sameday_delivery        0\n",
              "241_age_of_the_interviewee             0\n",
              "dtype: int64"
            ]
          },
          "metadata": {},
          "execution_count": 15
        }
      ]
    },
    {
      "cell_type": "code",
      "source": [
        "#concatemos \n",
        "Lastmile_customer_limpios = pd.concat([filtro1, filtro2, filtro3], axis=1)\n",
        "Lastmile_customer_limpios"
      ],
      "metadata": {
        "id": "oqi7uaDcgIKf",
        "colab": {
          "base_uri": "https://localhost:8080/",
          "height": 835
        },
        "outputId": "43233075-6cc0-4375-b6b1-4f1b33625f54"
      },
      "execution_count": null,
      "outputs": [
        {
          "output_type": "execute_result",
          "data": {
            "text/plain": [
              "                               _record_id             _title  \\\n",
              "0    94c9c1c8-f806-4dd6-9124-0447101139ce  November 27, 2022   \n",
              "1    1766c0a9-8f4d-452e-b2f9-5c7f7fa6e509  November 27, 2022   \n",
              "2    3f1e53cb-d761-48aa-be19-18d69ecbebf2  November 27, 2022   \n",
              "3    335e6647-537c-47da-9efa-805a110f6936  November 27, 2022   \n",
              "4    902e4d41-8299-424d-834b-d1090b1743c0  November 27, 2022   \n",
              "..                                    ...                ...   \n",
              "370  ee7ac407-4767-47b1-93b3-d7e09b49faec   November 3, 2022   \n",
              "371  f65a8190-df80-440e-83bc-2639decfffd0   November 3, 2022   \n",
              "372  70f42238-83b5-4a16-9f2e-a758efb8afb0   November 3, 2022   \n",
              "373  e4727f46-797f-4344-b183-0deeed11750f   November 3, 2022   \n",
              "374  0a5616e1-62cd-4f28-a282-9b34db145752   November 3, 2022   \n",
              "\n",
              "          _server_updated_at                _updated_by  \\\n",
              "0    2022-11-27 19:17:26 UTC             Sandra Carreón   \n",
              "1    2022-11-27 19:17:26 UTC             Sandra Carreón   \n",
              "2    2022-11-27 19:00:55 UTC             Sandra Carreón   \n",
              "3    2022-11-27 18:51:26 UTC             Sandra Carreón   \n",
              "4    2022-11-27 16:03:02 UTC             Sandra Carreón   \n",
              "..                       ...                        ...   \n",
              "370  2022-11-03 20:15:32 UTC             Daniel Serrano   \n",
              "371  2022-11-03 20:05:31 UTC             Daniel Serrano   \n",
              "372  2022-11-03 20:04:35 UTC  Fernando Gonzálezinactivo   \n",
              "373  2022-11-03 20:04:34 UTC  Fernando Gonzálezinactivo   \n",
              "374  2022-11-03 19:58:24 UTC             Daniel Serrano   \n",
              "\n",
              "                                         _geometry  \\\n",
              "0    SRID=4326;POINT(-98.1980873644 19.0486653032)   \n",
              "1     SRID=4326;POINT(-98.198058866 19.0487039671)   \n",
              "2    SRID=4326;POINT(-98.2017408684 19.0459141241)   \n",
              "3      SRID=4326;POINT(-98.1981215626 19.04858956)   \n",
              "4    SRID=4326;POINT(-98.1988253072 19.0441482241)   \n",
              "..                                             ...   \n",
              "370  SRID=4326;POINT(-98.2671002671 19.0352236761)   \n",
              "371  SRID=4326;POINT(-98.2678556442 19.0352804088)   \n",
              "372        SRID=4326;POINT(-98.2678617 19.0354511)   \n",
              "373        SRID=4326;POINT(-98.2678314 19.0354858)   \n",
              "374  SRID=4326;POINT(-98.2679243758 19.0353989453)   \n",
              "\n",
              "    282_payment_method_that_purchase 283_fulfill_needs 300_did_not_find  \\\n",
              "0                           Efectivo               yes             nulo   \n",
              "1                           Efectivo               yes             nulo   \n",
              "2                           Efectivo               yes             nulo   \n",
              "3                           Efectivo               yes             nulo   \n",
              "4                           Efectivo               yes             nulo   \n",
              "..                               ...               ...              ...   \n",
              "370                         Efectivo               yes             nulo   \n",
              "371                         Efectivo               yes             nulo   \n",
              "372                         Efectivo               yes             nulo   \n",
              "373                         Efectivo               yes             nulo   \n",
              "374                         Efectivo               yes             nulo   \n",
              "\n",
              "    237_distance_household_interviewee 299_means_transportation_consumer  ...  \\\n",
              "0                        4 a 6 cuadras                             A pie  ...   \n",
              "1                       7 a 10 cuadras                             A pie  ...   \n",
              "2                       7 a 10 cuadras                         Bicicleta  ...   \n",
              "3                       7 a 10 cuadras                             A pie  ...   \n",
              "4                       7 a 10 cuadras                             A pie  ...   \n",
              "..                                 ...                               ...  ...   \n",
              "370                             20 min                         Automóvil  ...   \n",
              "371                             30 min                Transporte público  ...   \n",
              "372                      0 a 3 cuadras                             A pie  ...   \n",
              "373                  más de 10 cuadras                              Didi  ...   \n",
              "374                      4 a 6 cuadras                Transporte público  ...   \n",
              "\n",
              "    storefront_picture_just_once_if_possible 238_frequency_buying_store  \\\n",
              "0                                    1 Photo                          1   \n",
              "1                                    1 Photo                          2   \n",
              "2                                    1 Photo                          2   \n",
              "3                                    1 Photo                          3   \n",
              "4                                    1 Photo                          2   \n",
              "..                                       ...                        ...   \n",
              "370                                  1 Photo                          1   \n",
              "371                                  1 Photo                          1   \n",
              "372                                  1 Photo                          1   \n",
              "373                                  1 Photo                          1   \n",
              "374                                  1 Photo                          1   \n",
              "\n",
              "    81_number_online_purchases_month 288_number_app_purchases_month  \\\n",
              "0                                  5                              4   \n",
              "1                                  5                              3   \n",
              "2                                  9                             12   \n",
              "3                                  2                              0   \n",
              "4                                  2                              5   \n",
              "..                               ...                            ...   \n",
              "370                               15                             10   \n",
              "371                                1                              1   \n",
              "372                                3                              2   \n",
              "373                                2                              4   \n",
              "374                                0                              3   \n",
              "\n",
              "    289_number_whatsapp_purchases_month 83_willingness_ultrafast_delivery  \\\n",
              "0                                     2                               250   \n",
              "1                                     0                               300   \n",
              "2                                     2                               500   \n",
              "3                                     1                               280   \n",
              "4                                     1                               250   \n",
              "..                                  ...                               ...   \n",
              "370                                   0                               100   \n",
              "371                                   0                                50   \n",
              "372                                   0                                 0   \n",
              "373                                   0                                30   \n",
              "374                                   0                               150   \n",
              "\n",
              "    84_willingness_sameday_delivery 241_age_of_the_interviewee  _latitude  \\\n",
              "0                               100                         18  19.048665   \n",
              "1                               100                         17  19.048704   \n",
              "2                               300                         30  19.045914   \n",
              "3                               150                         24  19.048590   \n",
              "4                               150                         22  19.044148   \n",
              "..                              ...                        ...        ...   \n",
              "370                             100                         15  19.035224   \n",
              "371                              70                         21  19.035280   \n",
              "372                               0                         18  19.035451   \n",
              "373                             100                         18  19.035486   \n",
              "374                            1000                         18  19.035399   \n",
              "\n",
              "    _longitude  \n",
              "0   -98.198087  \n",
              "1   -98.198059  \n",
              "2   -98.201741  \n",
              "3   -98.198122  \n",
              "4   -98.198825  \n",
              "..         ...  \n",
              "370 -98.267100  \n",
              "371 -98.267856  \n",
              "372 -98.267862  \n",
              "373 -98.267831  \n",
              "374 -98.267924  \n",
              "\n",
              "[375 rows x 36 columns]"
            ],
            "text/html": [
              "\n",
              "  <div id=\"df-1b424bfc-fbfb-4038-8f80-60e7a8bd1442\">\n",
              "    <div class=\"colab-df-container\">\n",
              "      <div>\n",
              "<style scoped>\n",
              "    .dataframe tbody tr th:only-of-type {\n",
              "        vertical-align: middle;\n",
              "    }\n",
              "\n",
              "    .dataframe tbody tr th {\n",
              "        vertical-align: top;\n",
              "    }\n",
              "\n",
              "    .dataframe thead th {\n",
              "        text-align: right;\n",
              "    }\n",
              "</style>\n",
              "<table border=\"1\" class=\"dataframe\">\n",
              "  <thead>\n",
              "    <tr style=\"text-align: right;\">\n",
              "      <th></th>\n",
              "      <th>_record_id</th>\n",
              "      <th>_title</th>\n",
              "      <th>_server_updated_at</th>\n",
              "      <th>_updated_by</th>\n",
              "      <th>_geometry</th>\n",
              "      <th>282_payment_method_that_purchase</th>\n",
              "      <th>283_fulfill_needs</th>\n",
              "      <th>300_did_not_find</th>\n",
              "      <th>237_distance_household_interviewee</th>\n",
              "      <th>299_means_transportation_consumer</th>\n",
              "      <th>...</th>\n",
              "      <th>storefront_picture_just_once_if_possible</th>\n",
              "      <th>238_frequency_buying_store</th>\n",
              "      <th>81_number_online_purchases_month</th>\n",
              "      <th>288_number_app_purchases_month</th>\n",
              "      <th>289_number_whatsapp_purchases_month</th>\n",
              "      <th>83_willingness_ultrafast_delivery</th>\n",
              "      <th>84_willingness_sameday_delivery</th>\n",
              "      <th>241_age_of_the_interviewee</th>\n",
              "      <th>_latitude</th>\n",
              "      <th>_longitude</th>\n",
              "    </tr>\n",
              "  </thead>\n",
              "  <tbody>\n",
              "    <tr>\n",
              "      <th>0</th>\n",
              "      <td>94c9c1c8-f806-4dd6-9124-0447101139ce</td>\n",
              "      <td>November 27, 2022</td>\n",
              "      <td>2022-11-27 19:17:26 UTC</td>\n",
              "      <td>Sandra Carreón</td>\n",
              "      <td>SRID=4326;POINT(-98.1980873644 19.0486653032)</td>\n",
              "      <td>Efectivo</td>\n",
              "      <td>yes</td>\n",
              "      <td>nulo</td>\n",
              "      <td>4 a 6 cuadras</td>\n",
              "      <td>A pie</td>\n",
              "      <td>...</td>\n",
              "      <td>1 Photo</td>\n",
              "      <td>1</td>\n",
              "      <td>5</td>\n",
              "      <td>4</td>\n",
              "      <td>2</td>\n",
              "      <td>250</td>\n",
              "      <td>100</td>\n",
              "      <td>18</td>\n",
              "      <td>19.048665</td>\n",
              "      <td>-98.198087</td>\n",
              "    </tr>\n",
              "    <tr>\n",
              "      <th>1</th>\n",
              "      <td>1766c0a9-8f4d-452e-b2f9-5c7f7fa6e509</td>\n",
              "      <td>November 27, 2022</td>\n",
              "      <td>2022-11-27 19:17:26 UTC</td>\n",
              "      <td>Sandra Carreón</td>\n",
              "      <td>SRID=4326;POINT(-98.198058866 19.0487039671)</td>\n",
              "      <td>Efectivo</td>\n",
              "      <td>yes</td>\n",
              "      <td>nulo</td>\n",
              "      <td>7 a 10 cuadras</td>\n",
              "      <td>A pie</td>\n",
              "      <td>...</td>\n",
              "      <td>1 Photo</td>\n",
              "      <td>2</td>\n",
              "      <td>5</td>\n",
              "      <td>3</td>\n",
              "      <td>0</td>\n",
              "      <td>300</td>\n",
              "      <td>100</td>\n",
              "      <td>17</td>\n",
              "      <td>19.048704</td>\n",
              "      <td>-98.198059</td>\n",
              "    </tr>\n",
              "    <tr>\n",
              "      <th>2</th>\n",
              "      <td>3f1e53cb-d761-48aa-be19-18d69ecbebf2</td>\n",
              "      <td>November 27, 2022</td>\n",
              "      <td>2022-11-27 19:00:55 UTC</td>\n",
              "      <td>Sandra Carreón</td>\n",
              "      <td>SRID=4326;POINT(-98.2017408684 19.0459141241)</td>\n",
              "      <td>Efectivo</td>\n",
              "      <td>yes</td>\n",
              "      <td>nulo</td>\n",
              "      <td>7 a 10 cuadras</td>\n",
              "      <td>Bicicleta</td>\n",
              "      <td>...</td>\n",
              "      <td>1 Photo</td>\n",
              "      <td>2</td>\n",
              "      <td>9</td>\n",
              "      <td>12</td>\n",
              "      <td>2</td>\n",
              "      <td>500</td>\n",
              "      <td>300</td>\n",
              "      <td>30</td>\n",
              "      <td>19.045914</td>\n",
              "      <td>-98.201741</td>\n",
              "    </tr>\n",
              "    <tr>\n",
              "      <th>3</th>\n",
              "      <td>335e6647-537c-47da-9efa-805a110f6936</td>\n",
              "      <td>November 27, 2022</td>\n",
              "      <td>2022-11-27 18:51:26 UTC</td>\n",
              "      <td>Sandra Carreón</td>\n",
              "      <td>SRID=4326;POINT(-98.1981215626 19.04858956)</td>\n",
              "      <td>Efectivo</td>\n",
              "      <td>yes</td>\n",
              "      <td>nulo</td>\n",
              "      <td>7 a 10 cuadras</td>\n",
              "      <td>A pie</td>\n",
              "      <td>...</td>\n",
              "      <td>1 Photo</td>\n",
              "      <td>3</td>\n",
              "      <td>2</td>\n",
              "      <td>0</td>\n",
              "      <td>1</td>\n",
              "      <td>280</td>\n",
              "      <td>150</td>\n",
              "      <td>24</td>\n",
              "      <td>19.048590</td>\n",
              "      <td>-98.198122</td>\n",
              "    </tr>\n",
              "    <tr>\n",
              "      <th>4</th>\n",
              "      <td>902e4d41-8299-424d-834b-d1090b1743c0</td>\n",
              "      <td>November 27, 2022</td>\n",
              "      <td>2022-11-27 16:03:02 UTC</td>\n",
              "      <td>Sandra Carreón</td>\n",
              "      <td>SRID=4326;POINT(-98.1988253072 19.0441482241)</td>\n",
              "      <td>Efectivo</td>\n",
              "      <td>yes</td>\n",
              "      <td>nulo</td>\n",
              "      <td>7 a 10 cuadras</td>\n",
              "      <td>A pie</td>\n",
              "      <td>...</td>\n",
              "      <td>1 Photo</td>\n",
              "      <td>2</td>\n",
              "      <td>2</td>\n",
              "      <td>5</td>\n",
              "      <td>1</td>\n",
              "      <td>250</td>\n",
              "      <td>150</td>\n",
              "      <td>22</td>\n",
              "      <td>19.044148</td>\n",
              "      <td>-98.198825</td>\n",
              "    </tr>\n",
              "    <tr>\n",
              "      <th>...</th>\n",
              "      <td>...</td>\n",
              "      <td>...</td>\n",
              "      <td>...</td>\n",
              "      <td>...</td>\n",
              "      <td>...</td>\n",
              "      <td>...</td>\n",
              "      <td>...</td>\n",
              "      <td>...</td>\n",
              "      <td>...</td>\n",
              "      <td>...</td>\n",
              "      <td>...</td>\n",
              "      <td>...</td>\n",
              "      <td>...</td>\n",
              "      <td>...</td>\n",
              "      <td>...</td>\n",
              "      <td>...</td>\n",
              "      <td>...</td>\n",
              "      <td>...</td>\n",
              "      <td>...</td>\n",
              "      <td>...</td>\n",
              "      <td>...</td>\n",
              "    </tr>\n",
              "    <tr>\n",
              "      <th>370</th>\n",
              "      <td>ee7ac407-4767-47b1-93b3-d7e09b49faec</td>\n",
              "      <td>November 3, 2022</td>\n",
              "      <td>2022-11-03 20:15:32 UTC</td>\n",
              "      <td>Daniel Serrano</td>\n",
              "      <td>SRID=4326;POINT(-98.2671002671 19.0352236761)</td>\n",
              "      <td>Efectivo</td>\n",
              "      <td>yes</td>\n",
              "      <td>nulo</td>\n",
              "      <td>20 min</td>\n",
              "      <td>Automóvil</td>\n",
              "      <td>...</td>\n",
              "      <td>1 Photo</td>\n",
              "      <td>1</td>\n",
              "      <td>15</td>\n",
              "      <td>10</td>\n",
              "      <td>0</td>\n",
              "      <td>100</td>\n",
              "      <td>100</td>\n",
              "      <td>15</td>\n",
              "      <td>19.035224</td>\n",
              "      <td>-98.267100</td>\n",
              "    </tr>\n",
              "    <tr>\n",
              "      <th>371</th>\n",
              "      <td>f65a8190-df80-440e-83bc-2639decfffd0</td>\n",
              "      <td>November 3, 2022</td>\n",
              "      <td>2022-11-03 20:05:31 UTC</td>\n",
              "      <td>Daniel Serrano</td>\n",
              "      <td>SRID=4326;POINT(-98.2678556442 19.0352804088)</td>\n",
              "      <td>Efectivo</td>\n",
              "      <td>yes</td>\n",
              "      <td>nulo</td>\n",
              "      <td>30 min</td>\n",
              "      <td>Transporte público</td>\n",
              "      <td>...</td>\n",
              "      <td>1 Photo</td>\n",
              "      <td>1</td>\n",
              "      <td>1</td>\n",
              "      <td>1</td>\n",
              "      <td>0</td>\n",
              "      <td>50</td>\n",
              "      <td>70</td>\n",
              "      <td>21</td>\n",
              "      <td>19.035280</td>\n",
              "      <td>-98.267856</td>\n",
              "    </tr>\n",
              "    <tr>\n",
              "      <th>372</th>\n",
              "      <td>70f42238-83b5-4a16-9f2e-a758efb8afb0</td>\n",
              "      <td>November 3, 2022</td>\n",
              "      <td>2022-11-03 20:04:35 UTC</td>\n",
              "      <td>Fernando Gonzálezinactivo</td>\n",
              "      <td>SRID=4326;POINT(-98.2678617 19.0354511)</td>\n",
              "      <td>Efectivo</td>\n",
              "      <td>yes</td>\n",
              "      <td>nulo</td>\n",
              "      <td>0 a 3 cuadras</td>\n",
              "      <td>A pie</td>\n",
              "      <td>...</td>\n",
              "      <td>1 Photo</td>\n",
              "      <td>1</td>\n",
              "      <td>3</td>\n",
              "      <td>2</td>\n",
              "      <td>0</td>\n",
              "      <td>0</td>\n",
              "      <td>0</td>\n",
              "      <td>18</td>\n",
              "      <td>19.035451</td>\n",
              "      <td>-98.267862</td>\n",
              "    </tr>\n",
              "    <tr>\n",
              "      <th>373</th>\n",
              "      <td>e4727f46-797f-4344-b183-0deeed11750f</td>\n",
              "      <td>November 3, 2022</td>\n",
              "      <td>2022-11-03 20:04:34 UTC</td>\n",
              "      <td>Fernando Gonzálezinactivo</td>\n",
              "      <td>SRID=4326;POINT(-98.2678314 19.0354858)</td>\n",
              "      <td>Efectivo</td>\n",
              "      <td>yes</td>\n",
              "      <td>nulo</td>\n",
              "      <td>más de 10 cuadras</td>\n",
              "      <td>Didi</td>\n",
              "      <td>...</td>\n",
              "      <td>1 Photo</td>\n",
              "      <td>1</td>\n",
              "      <td>2</td>\n",
              "      <td>4</td>\n",
              "      <td>0</td>\n",
              "      <td>30</td>\n",
              "      <td>100</td>\n",
              "      <td>18</td>\n",
              "      <td>19.035486</td>\n",
              "      <td>-98.267831</td>\n",
              "    </tr>\n",
              "    <tr>\n",
              "      <th>374</th>\n",
              "      <td>0a5616e1-62cd-4f28-a282-9b34db145752</td>\n",
              "      <td>November 3, 2022</td>\n",
              "      <td>2022-11-03 19:58:24 UTC</td>\n",
              "      <td>Daniel Serrano</td>\n",
              "      <td>SRID=4326;POINT(-98.2679243758 19.0353989453)</td>\n",
              "      <td>Efectivo</td>\n",
              "      <td>yes</td>\n",
              "      <td>nulo</td>\n",
              "      <td>4 a 6 cuadras</td>\n",
              "      <td>Transporte público</td>\n",
              "      <td>...</td>\n",
              "      <td>1 Photo</td>\n",
              "      <td>1</td>\n",
              "      <td>0</td>\n",
              "      <td>3</td>\n",
              "      <td>0</td>\n",
              "      <td>150</td>\n",
              "      <td>1000</td>\n",
              "      <td>18</td>\n",
              "      <td>19.035399</td>\n",
              "      <td>-98.267924</td>\n",
              "    </tr>\n",
              "  </tbody>\n",
              "</table>\n",
              "<p>375 rows × 36 columns</p>\n",
              "</div>\n",
              "      <button class=\"colab-df-convert\" onclick=\"convertToInteractive('df-1b424bfc-fbfb-4038-8f80-60e7a8bd1442')\"\n",
              "              title=\"Convert this dataframe to an interactive table.\"\n",
              "              style=\"display:none;\">\n",
              "        \n",
              "  <svg xmlns=\"http://www.w3.org/2000/svg\" height=\"24px\"viewBox=\"0 0 24 24\"\n",
              "       width=\"24px\">\n",
              "    <path d=\"M0 0h24v24H0V0z\" fill=\"none\"/>\n",
              "    <path d=\"M18.56 5.44l.94 2.06.94-2.06 2.06-.94-2.06-.94-.94-2.06-.94 2.06-2.06.94zm-11 1L8.5 8.5l.94-2.06 2.06-.94-2.06-.94L8.5 2.5l-.94 2.06-2.06.94zm10 10l.94 2.06.94-2.06 2.06-.94-2.06-.94-.94-2.06-.94 2.06-2.06.94z\"/><path d=\"M17.41 7.96l-1.37-1.37c-.4-.4-.92-.59-1.43-.59-.52 0-1.04.2-1.43.59L10.3 9.45l-7.72 7.72c-.78.78-.78 2.05 0 2.83L4 21.41c.39.39.9.59 1.41.59.51 0 1.02-.2 1.41-.59l7.78-7.78 2.81-2.81c.8-.78.8-2.07 0-2.86zM5.41 20L4 18.59l7.72-7.72 1.47 1.35L5.41 20z\"/>\n",
              "  </svg>\n",
              "      </button>\n",
              "      \n",
              "  <style>\n",
              "    .colab-df-container {\n",
              "      display:flex;\n",
              "      flex-wrap:wrap;\n",
              "      gap: 12px;\n",
              "    }\n",
              "\n",
              "    .colab-df-convert {\n",
              "      background-color: #E8F0FE;\n",
              "      border: none;\n",
              "      border-radius: 50%;\n",
              "      cursor: pointer;\n",
              "      display: none;\n",
              "      fill: #1967D2;\n",
              "      height: 32px;\n",
              "      padding: 0 0 0 0;\n",
              "      width: 32px;\n",
              "    }\n",
              "\n",
              "    .colab-df-convert:hover {\n",
              "      background-color: #E2EBFA;\n",
              "      box-shadow: 0px 1px 2px rgba(60, 64, 67, 0.3), 0px 1px 3px 1px rgba(60, 64, 67, 0.15);\n",
              "      fill: #174EA6;\n",
              "    }\n",
              "\n",
              "    [theme=dark] .colab-df-convert {\n",
              "      background-color: #3B4455;\n",
              "      fill: #D2E3FC;\n",
              "    }\n",
              "\n",
              "    [theme=dark] .colab-df-convert:hover {\n",
              "      background-color: #434B5C;\n",
              "      box-shadow: 0px 1px 3px 1px rgba(0, 0, 0, 0.15);\n",
              "      filter: drop-shadow(0px 1px 2px rgba(0, 0, 0, 0.3));\n",
              "      fill: #FFFFFF;\n",
              "    }\n",
              "  </style>\n",
              "\n",
              "      <script>\n",
              "        const buttonEl =\n",
              "          document.querySelector('#df-1b424bfc-fbfb-4038-8f80-60e7a8bd1442 button.colab-df-convert');\n",
              "        buttonEl.style.display =\n",
              "          google.colab.kernel.accessAllowed ? 'block' : 'none';\n",
              "\n",
              "        async function convertToInteractive(key) {\n",
              "          const element = document.querySelector('#df-1b424bfc-fbfb-4038-8f80-60e7a8bd1442');\n",
              "          const dataTable =\n",
              "            await google.colab.kernel.invokeFunction('convertToInteractive',\n",
              "                                                     [key], {});\n",
              "          if (!dataTable) return;\n",
              "\n",
              "          const docLinkHtml = 'Like what you see? Visit the ' +\n",
              "            '<a target=\"_blank\" href=https://colab.research.google.com/notebooks/data_table.ipynb>data table notebook</a>'\n",
              "            + ' to learn more about interactive tables.';\n",
              "          element.innerHTML = '';\n",
              "          dataTable['output_type'] = 'display_data';\n",
              "          await google.colab.output.renderOutput(dataTable, element);\n",
              "          const docLink = document.createElement('div');\n",
              "          docLink.innerHTML = docLinkHtml;\n",
              "          element.appendChild(docLink);\n",
              "        }\n",
              "      </script>\n",
              "    </div>\n",
              "  </div>\n",
              "  "
            ]
          },
          "metadata": {},
          "execution_count": 16
        }
      ]
    },
    {
      "cell_type": "code",
      "source": [
        "Lastmile_customer_limpios.info()"
      ],
      "metadata": {
        "id": "5Wr16R6MHFyk"
      },
      "execution_count": null,
      "outputs": []
    },
    {
      "cell_type": "code",
      "source": [
        "#Convertir DataFrame a CSV\n",
        "Lastmile_customer_limpios.to_csv(\"2_ consumer_mit_lift_lab.csv\")"
      ],
      "metadata": {
        "id": "uZhzKTg4irya"
      },
      "execution_count": null,
      "outputs": []
    },
    {
      "cell_type": "code",
      "source": [
        "#Descargar archivo filtrado en csv \n",
        "from google.colab import files\n",
        "files.download(\"2_ consumer_mit_lift_lab.csv\")"
      ],
      "metadata": {
        "id": "nKWeNdJSi2GU",
        "colab": {
          "base_uri": "https://localhost:8080/",
          "height": 17
        },
        "outputId": "d1178fb8-60af-41f9-8afb-f9617806f552"
      },
      "execution_count": null,
      "outputs": [
        {
          "output_type": "display_data",
          "data": {
            "text/plain": [
              "<IPython.core.display.Javascript object>"
            ],
            "application/javascript": [
              "\n",
              "    async function download(id, filename, size) {\n",
              "      if (!google.colab.kernel.accessAllowed) {\n",
              "        return;\n",
              "      }\n",
              "      const div = document.createElement('div');\n",
              "      const label = document.createElement('label');\n",
              "      label.textContent = `Downloading \"${filename}\": `;\n",
              "      div.appendChild(label);\n",
              "      const progress = document.createElement('progress');\n",
              "      progress.max = size;\n",
              "      div.appendChild(progress);\n",
              "      document.body.appendChild(div);\n",
              "\n",
              "      const buffers = [];\n",
              "      let downloaded = 0;\n",
              "\n",
              "      const channel = await google.colab.kernel.comms.open(id);\n",
              "      // Send a message to notify the kernel that we're ready.\n",
              "      channel.send({})\n",
              "\n",
              "      for await (const message of channel.messages) {\n",
              "        // Send a message to notify the kernel that we're ready.\n",
              "        channel.send({})\n",
              "        if (message.buffers) {\n",
              "          for (const buffer of message.buffers) {\n",
              "            buffers.push(buffer);\n",
              "            downloaded += buffer.byteLength;\n",
              "            progress.value = downloaded;\n",
              "          }\n",
              "        }\n",
              "      }\n",
              "      const blob = new Blob(buffers, {type: 'application/binary'});\n",
              "      const a = document.createElement('a');\n",
              "      a.href = window.URL.createObjectURL(blob);\n",
              "      a.download = filename;\n",
              "      div.appendChild(a);\n",
              "      a.click();\n",
              "      div.remove();\n",
              "    }\n",
              "  "
            ]
          },
          "metadata": {}
        },
        {
          "output_type": "display_data",
          "data": {
            "text/plain": [
              "<IPython.core.display.Javascript object>"
            ],
            "application/javascript": [
              "download(\"download_40513fa8-fa4b-43e2-8a23-7e39e387fb4d\", \"2_ consumer_mit_lift_lab.csv\", 166354)"
            ]
          },
          "metadata": {}
        }
      ]
    },
    {
      "cell_type": "markdown",
      "source": [
        "# **Evidencia** 3: Regresiones \n"
      ],
      "metadata": {
        "id": "yu-yX9ZOHMWy"
      }
    },
    {
      "cell_type": "code",
      "source": [
        "Lastmile_customer_limpios"
      ],
      "metadata": {
        "id": "mGLrrhfTHmA2"
      },
      "execution_count": null,
      "outputs": []
    },
    {
      "cell_type": "code",
      "source": [
        "sns.scatterplot(x='288_number_app_purchases_month', y='238_frequency_buying_store', color=\"red\", data=Lastmile_customer_limpios)"
      ],
      "metadata": {
        "colab": {
          "base_uri": "https://localhost:8080/",
          "height": 297
        },
        "id": "R2rYOCIuRrHY",
        "outputId": "18383ab5-b300-4a0c-fa50-1314748e550a"
      },
      "execution_count": null,
      "outputs": [
        {
          "output_type": "execute_result",
          "data": {
            "text/plain": [
              "<matplotlib.axes._subplots.AxesSubplot at 0x7f5419cc0df0>"
            ]
          },
          "metadata": {},
          "execution_count": 21
        },
        {
          "output_type": "display_data",
          "data": {
            "text/plain": [
              "<Figure size 432x288 with 1 Axes>"
            ],
            "image/png": "[encoded data removed]"
          },
          "metadata": {
            "needs_background": "light"
          }
        }
      ]
    },
    {
      "cell_type": "code",
      "source": [
        "sns.scatterplot(x='81_number_online_purchases_month', y='238_frequency_buying_store', color=\"blue\", data=Lastmile_customer_limpios)"
      ],
      "metadata": {
        "colab": {
          "base_uri": "https://localhost:8080/",
          "height": 297
        },
        "id": "ETaG8XQoRreC",
        "outputId": "296d4694-c088-40b0-99be-b80383d961ab"
      },
      "execution_count": null,
      "outputs": [
        {
          "output_type": "execute_result",
          "data": {
            "text/plain": [
              "<matplotlib.axes._subplots.AxesSubplot at 0x7f5419c43b20>"
            ]
          },
          "metadata": {},
          "execution_count": 22
        },
        {
          "output_type": "display_data",
          "data": {
            "text/plain": [
              "<Figure size 432x288 with 1 Axes>"
            ],
            "image/png": "[encoded data removed]"
          },
          "metadata": {
            "needs_background": "light"
          }
        }
      ]
    },
    {
      "cell_type": "code",
      "source": [
        "sns.scatterplot(x='289_number_whatsapp_purchases_month', y='238_frequency_buying_store', color=\"yellow\", data=Lastmile_customer_limpios)"
      ],
      "metadata": {
        "colab": {
          "base_uri": "https://localhost:8080/",
          "height": 297
        },
        "id": "bsi5-DJtIcSE",
        "outputId": "d87c3454-061b-4ee8-fc8e-54839a109093"
      },
      "execution_count": null,
      "outputs": [
        {
          "output_type": "execute_result",
          "data": {
            "text/plain": [
              "<matplotlib.axes._subplots.AxesSubplot at 0x7f5419c161c0>"
            ]
          },
          "metadata": {},
          "execution_count": 23
        },
        {
          "output_type": "display_data",
          "data": {
            "text/plain": [
              "<Figure size 432x288 with 1 Axes>"
            ],
            "image/png": "[encoded data removed]"
          },
          "metadata": {
            "needs_background": "light"
          }
        }
      ]
    },
    {
      "cell_type": "code",
      "source": [
        "sns.scatterplot(x='83_willingness_ultrafast_delivery', y='238_frequency_buying_store', color=\"blue\", data=Lastmile_customer_limpios)"
      ],
      "metadata": {
        "colab": {
          "base_uri": "https://localhost:8080/",
          "height": 297
        },
        "id": "_Mwqs3r0QGZ4",
        "outputId": "9b030a7b-7e35-4a1e-9037-67808c82a3e2"
      },
      "execution_count": null,
      "outputs": [
        {
          "output_type": "execute_result",
          "data": {
            "text/plain": [
              "<matplotlib.axes._subplots.AxesSubplot at 0x7f5419bf18e0>"
            ]
          },
          "metadata": {},
          "execution_count": 24
        },
        {
          "output_type": "display_data",
          "data": {
            "text/plain": [
              "<Figure size 432x288 with 1 Axes>"
            ],
            "image/png": "[encoded data removed]"
          },
          "metadata": {
            "needs_background": "light"
          }
        }
      ]
    },
    {
      "cell_type": "code",
      "source": [
        "sns.scatterplot(x='84_willingness_sameday_delivery', y='238_frequency_buying_store', color=\"red\", data=Lastmile_customer_limpios)"
      ],
      "metadata": {
        "colab": {
          "base_uri": "https://localhost:8080/",
          "height": 297
        },
        "id": "NY_oCDziR_Oy",
        "outputId": "f2501eef-a238-4213-acf5-fc94ae3932b6"
      },
      "execution_count": null,
      "outputs": [
        {
          "output_type": "execute_result",
          "data": {
            "text/plain": [
              "<matplotlib.axes._subplots.AxesSubplot at 0x7f5419b45a00>"
            ]
          },
          "metadata": {},
          "execution_count": 25
        },
        {
          "output_type": "display_data",
          "data": {
            "text/plain": [
              "<Figure size 432x288 with 1 Axes>"
            ],
            "image/png": "[encoded data removed]"
          },
          "metadata": {
            "needs_background": "light"
          }
        }
      ]
    },
    {
      "cell_type": "code",
      "source": [
        "sns.scatterplot(x='241_age_of_the_interviewee', y='238_frequency_buying_store', color=\"yellow\", data=Lastmile_customer_limpios)"
      ],
      "metadata": {
        "colab": {
          "base_uri": "https://localhost:8080/",
          "height": 297
        },
        "id": "k-O7NlMxSGjB",
        "outputId": "e3ead5b4-428e-4a53-bed4-c08e2c040652"
      },
      "execution_count": null,
      "outputs": [
        {
          "output_type": "execute_result",
          "data": {
            "text/plain": [
              "<matplotlib.axes._subplots.AxesSubplot at 0x7f5419b21340>"
            ]
          },
          "metadata": {},
          "execution_count": 26
        },
        {
          "output_type": "display_data",
          "data": {
            "text/plain": [
              "<Figure size 432x288 with 1 Axes>"
            ],
            "image/png": "[encoded data removed]"
          },
          "metadata": {
            "needs_background": "light"
          }
        }
      ]
    },
    {
      "cell_type": "code",
      "source": [
        "#Declaramos las variables dependientes e independientes para la regresión lineal\n",
        "Vars_Indepm1= Lastmile_customer_limpios[['288_number_app_purchases_month', '81_number_online_purchases_month','289_number_whatsapp_purchases_month']]\n",
        "Var_Depm1= Lastmile_customer_limpios['238_frequency_buying_store']"
      ],
      "metadata": {
        "id": "vR5iuNGYS-Cf"
      },
      "execution_count": null,
      "outputs": []
    },
    {
      "cell_type": "code",
      "source": [
        "#Declaramos las variables dependientes e independientes para la regresión lineal\n",
        "Vars_Indepm2= Lastmile_customer_limpios[['83_willingness_ultrafast_delivery', '84_willingness_sameday_delivery','241_age_of_the_interviewee']]\n",
        "Var_Depm2= Lastmile_customer_limpios['238_frequency_buying_store']"
      ],
      "metadata": {
        "id": "AixpOiTbT5tF"
      },
      "execution_count": null,
      "outputs": []
    },
    {
      "cell_type": "code",
      "source": [
        "#Se define model como la función de regresión lineal\n",
        "from sklearn.linear_model import LinearRegression\n",
        "model= LinearRegression()"
      ],
      "metadata": {
        "id": "Ysl1cYMGUTIJ"
      },
      "execution_count": null,
      "outputs": []
    },
    {
      "cell_type": "code",
      "source": [
        "#Verificamos la función relacionada al modelo\n",
        "type(model)"
      ],
      "metadata": {
        "colab": {
          "base_uri": "https://localhost:8080/"
        },
        "id": "lMxfsAWDUhLO",
        "outputId": "8481fdda-4ea9-48ac-b508-eeda45c244e7"
      },
      "execution_count": null,
      "outputs": [
        {
          "output_type": "execute_result",
          "data": {
            "text/plain": [
              "sklearn.linear_model._base.LinearRegression"
            ]
          },
          "metadata": {},
          "execution_count": 30
        }
      ]
    },
    {
      "cell_type": "code",
      "source": [
        "#Ajustamos el modelo con las variables antes declaradas\n",
        "model.fit(X=Vars_Indepm1, y=Var_Depm1)"
      ],
      "metadata": {
        "colab": {
          "base_uri": "https://localhost:8080/"
        },
        "id": "D6hhHqYAUkrw",
        "outputId": "d3ab5202-22b0-4a08-a1c8-e94cd5c6a05e"
      },
      "execution_count": null,
      "outputs": [
        {
          "output_type": "execute_result",
          "data": {
            "text/plain": [
              "LinearRegression()"
            ]
          },
          "metadata": {},
          "execution_count": 31
        }
      ]
    },
    {
      "cell_type": "code",
      "source": [
        "#Verificamos los coeficientes obtenidos para el modelo ajustado\n",
        "model.__dict__"
      ],
      "metadata": {
        "colab": {
          "base_uri": "https://localhost:8080/"
        },
        "id": "78aPSjQxUtIh",
        "outputId": "4621d679-119c-495b-8061-90b31826d14c"
      },
      "execution_count": null,
      "outputs": [
        {
          "output_type": "execute_result",
          "data": {
            "text/plain": [
              "{'fit_intercept': True,\n",
              " 'normalize': 'deprecated',\n",
              " 'copy_X': True,\n",
              " 'n_jobs': None,\n",
              " 'positive': False,\n",
              " 'feature_names_in_': array(['288_number_app_purchases_month',\n",
              "        '81_number_online_purchases_month',\n",
              "        '289_number_whatsapp_purchases_month'], dtype=object),\n",
              " 'n_features_in_': 3,\n",
              " 'coef_': array([ 0.00264977, -0.06681739,  0.0654633 ]),\n",
              " '_residues': 750.6379896132061,\n",
              " 'rank_': 3,\n",
              " 'singular_': array([106.97117969,  48.54340704,  36.7067707 ]),\n",
              " 'intercept_': 2.137779928127828}"
            ]
          },
          "metadata": {},
          "execution_count": 32
        }
      ]
    },
    {
      "cell_type": "code",
      "source": [
        "#Evaluamos la eficiencia del modelo obtenido por medio del coeficiente R2 Determinación\n",
        "model.score(Vars_Indepm1,Var_Depm1)"
      ],
      "metadata": {
        "colab": {
          "base_uri": "https://localhost:8080/"
        },
        "id": "8He5b-SkUvvC",
        "outputId": "41948f24-35a6-4145-bc80-dbf4d1a5c20c"
      },
      "execution_count": null,
      "outputs": [
        {
          "output_type": "execute_result",
          "data": {
            "text/plain": [
              "0.02539523687452494"
            ]
          },
          "metadata": {},
          "execution_count": 33
        }
      ]
    },
    {
      "cell_type": "code",
      "source": [
        "#Predecimos los valores de total de accidentes a partir de las variables: \"alcohol\", \"speeding\" y \"no_previous\"\n",
        "y_pred= model.predict(X=Lastmile_customer_limpios[['288_number_app_purchases_month', '81_number_online_purchases_month','289_number_whatsapp_purchases_month']])\n",
        "y_pred"
      ],
      "metadata": {
        "id": "xcXrPRmwU22B",
        "colab": {
          "base_uri": "https://localhost:8080/"
        },
        "outputId": "88943f03-1371-4e17-9ece-48016e3660e1"
      },
      "execution_count": null,
      "outputs": [
        {
          "output_type": "execute_result",
          "data": {
            "text/plain": [
              "array([1.94521871, 1.81164232, 1.69914736, 2.06960846, 2.08285733,\n",
              "       1.93732777, 2.01209448, 2.29114204, 2.00279108, 2.13777993,\n",
              "       2.13777993, 1.94127324, 1.93732777, 1.93997755, 1.74482494,\n",
              "       2.07755779, 2.00414516, 1.94256893, 2.00679493, 1.87580993,\n",
              "       3.78231186, 2.13777993, 1.7363026 , 3.15270571, 2.99669382,\n",
              "       2.01209448, 2.79241297, 1.86993737, 2.53055975, 2.15626996,\n",
              "       2.01739403, 1.77662223, 2.07891187, 2.08945258, 2.01209448,\n",
              "       2.1404297 , 2.13777993, 2.13777993, 1.93997755, 2.01209448,\n",
              "       2.14302109, 2.07626209, 2.13777993, 2.00679493, 1.50935269,\n",
              "       2.0868028 , 1.82754097, 2.08150325, 1.94786848, 2.00944471,\n",
              "       2.13777993, 2.13777993, 2.07096254, 2.07096254, 2.00679493,\n",
              "       2.00414516, 1.9452771 , 2.00414516, 2.13777993, 2.13777993,\n",
              "       2.00944471, 1.93732777, 2.13777993, 2.08285733, 2.01733564,\n",
              "       2.08421142, 2.1404297 , 2.14572925, 2.07891187, 2.20324323,\n",
              "       2.13777993, 2.13777993, 2.13777993, 2.07096254, 2.13777993,\n",
              "       2.20854278, 2.13777993, 2.33946939, 2.13907562, 2.13777993,\n",
              "       2.11070916, 1.93732777, 2.01209448, 2.14307948, 2.13777993,\n",
              "       2.20983848, 2.00414516, 2.07490801, 2.01739403, 2.13777993,\n",
              "       2.00679493, 2.07096254, 2.21248825, 2.07626209, 1.74747471,\n",
              "       1.93997755, 1.8142921 , 2.07090415, 2.07361232, 2.07096254,\n",
              "       2.07096254, 2.13777993, 2.07361232, 2.07096254, 2.08156164,\n",
              "       1.81293802, 2.07626209, 2.02928882, 2.22043757, 1.56822075,\n",
              "       2.00414516, 1.82883667, 2.00414516, 2.00414516, 1.93732777,\n",
              "       2.01739403, 2.07096254, 2.19077542, 2.13777993, 2.13777993,\n",
              "       2.13777993, 1.9465144 , 1.81164232, 2.13777993, 1.93732777,\n",
              "       2.01209448, 2.00414516, 2.07096254, 1.803693  , 2.13777993,\n",
              "       1.81164232, 2.14307948, 2.13777993, 2.13777993, 2.08279895,\n",
              "       2.14425839, 2.08014917, 1.88093432, 2.14832064, 2.01727725,\n",
              "       2.00809062, 2.07626209, 2.07891187, 2.0200438 , 2.01739403,\n",
              "       1.87845971, 2.01474426, 2.07626209, 2.13100952, 2.00809062,\n",
              "       2.08156164, 2.07626209, 2.13777993, 2.14307948, 2.07361232,\n",
              "       2.13777993, 2.08020756, 1.94792687, 1.91025701, 1.96111736,\n",
              "       2.07626209, 2.13777993, 2.13777993, 1.87710563, 1.96382552,\n",
              "       2.00414516, 2.01209448, 2.13777993, 2.13777993, 1.8142921 ,\n",
              "       2.07626209, 1.81164232, 1.93732777, 1.93997755, 1.83019075,\n",
              "       2.27135631, 2.13777993, 2.07096254, 2.40622839, 2.20983848,\n",
              "       2.13777993, 1.94262732, 2.00414516, 2.07891187, 2.39957476,\n",
              "       1.94657279, 2.21242986, 2.33811531, 2.20324323, 2.1417254 ,\n",
              "       2.08686119, 2.08285733, 1.93732777, 2.27400609, 2.13777993,\n",
              "       2.27930564, 1.87580993, 2.00414516, 2.07096254, 1.95587619,\n",
              "       1.82088734, 1.94127324, 2.00544085, 2.01603995, 2.01209448,\n",
              "       2.00414516, 1.81164232, 2.00414516, 2.1404297 , 2.46509645,\n",
              "       2.13777993, 2.00944471, 2.18017632, 2.13777993, 2.15762404,\n",
              "       1.70309283, 2.20589301, 2.28189702, 2.13777993, 2.08020756,\n",
              "       1.54831825, 2.15232449, 2.02658066, 2.08020756, 2.21649211,\n",
              "       2.22173327, 2.1404297 , 2.08156164, 2.20589301, 2.07096254,\n",
              "       2.08150325, 2.08951097, 2.08285733, 2.24146061, 2.02793474,\n",
              "       2.08020756, 2.13777993, 2.15886135, 2.07755779, 2.05042863,\n",
              "       2.01733564, 2.13777993, 2.3712083 , 2.14166701, 2.13777993,\n",
              "       2.21643372, 2.22173327, 2.20589301, 2.16427768, 2.79241297,\n",
              "       2.08144487, 2.00414516, 2.01733564, 2.21649211, 2.07096254,\n",
              "       2.27665586, 2.1404297 , 2.00414516, 2.13777993, 2.26870654,\n",
              "       1.95057664, 2.07096254, 2.08020756, 2.07096254, 2.07626209,\n",
              "       2.13777993, 2.01209448, 2.01739403, 2.13777993, 2.07096254,\n",
              "       2.13777993, 2.08156164, 2.01739403, 2.53055975, 2.07096254,\n",
              "       2.00414516, 2.00679493, 2.07096254, 2.00414516, 2.13777993,\n",
              "       2.00414516, 2.1404297 , 1.93997755, 2.00679493, 2.13777993,\n",
              "       2.01739403, 2.07096254, 2.07096254, 2.13777993, 1.60854039,\n",
              "       2.00944471, 2.20453893, 2.01598156, 2.13777993, 2.07096254,\n",
              "       2.13777993, 1.93997755, 2.00679493, 1.89435836, 2.00414516,\n",
              "       2.41017386, 2.13777993, 2.13777993, 1.87580993, 2.01209448,\n",
              "       1.96382552, 1.75012449, 2.09216074, 1.83019075, 2.20589301,\n",
              "       2.14572925, 2.07096254, 1.6833071 , 2.00679493, 1.93732777,\n",
              "       2.13777993, 2.13777993, 2.13777993, 2.13777993, 2.18806726,\n",
              "       2.01209448, 0.29224484, 2.13777993, 2.07090415, 2.13507177,\n",
              "       1.81282124, 2.33411145, 1.81164232, 2.00944471, 2.07096254,\n",
              "       2.14832064, 2.20324323, 2.33146168, 2.07096254, 2.08020756,\n",
              "       2.13777993, 2.01209448, 1.83019075, 2.08421142, 2.07891187,\n",
              "       2.0200438 , 2.46509645, 2.01474426, 2.40357861, 1.94792687,\n",
              "       2.46509645, 2.33281576, 2.27924725, 2.34871441, 2.26058205,\n",
              "       2.6026183 , 2.20177237, 1.8354903 , 2.01203609, 2.20053507,\n",
              "       1.84343962, 1.96777099, 2.15615319, 2.46509645, 2.02269358,\n",
              "       2.02269358, 2.13777993, 1.75012449, 1.61383994, 2.26870654,\n",
              "       2.00679493, 2.83863806, 1.6190811 , 1.63503814, 1.46960607,\n",
              "       1.16201689, 2.07361232, 1.94262732, 2.01474426, 2.14572925])"
            ]
          },
          "metadata": {},
          "execution_count": 34
        }
      ]
    },
    {
      "cell_type": "code",
      "source": [
        "#Insertamos la columna de predicciones en el DataFrame\n",
        "Lastmile_customer_limpios.insert(0, 'Predicciones', y_pred)\n",
        "Lastmile_customer_limpios"
      ],
      "metadata": {
        "id": "75068TN_VQX2"
      },
      "execution_count": null,
      "outputs": []
    },
    {
      "cell_type": "code",
      "source": [
        "#Visualizamos la gráfica comparativa entre el total real y el total predecido\n",
        "\n",
        "sns.scatterplot(x='288_number_app_purchases_month', y='238_frequency_buying_store', color=\"blue\", data=Lastmile_customer_limpios)\n",
        "sns.scatterplot(x='288_number_app_purchases_month', y='Predicciones', color=\"red\", data=Lastmile_customer_limpios)\n",
        "#sns.lineplot(x='alcohol', y='Predicciones', color=\"red\", data=df)"
      ],
      "metadata": {
        "id": "URX9EMbHVxnP"
      },
      "execution_count": null,
      "outputs": []
    },
    {
      "cell_type": "code",
      "source": [
        "#Corroboramos cual es el coeficiente de Determinación de nuestro modelo\n",
        "coef_Deter=model.score(X=Vars_Indepm1, y=Var_Depm1)\n",
        "coef_Deter"
      ],
      "metadata": {
        "colab": {
          "base_uri": "https://localhost:8080/"
        },
        "id": "VZID6FYcXXTp",
        "outputId": "9bc22581-ceb8-4c65-ac8b-443cb1b2b4f2"
      },
      "execution_count": null,
      "outputs": [
        {
          "output_type": "execute_result",
          "data": {
            "text/plain": [
              "0.02539523687452494"
            ]
          },
          "metadata": {},
          "execution_count": 50
        }
      ]
    },
    {
      "cell_type": "code",
      "source": [
        "#Corroboramos cual es el coeficiente de Correlación de nuestro modelo\n",
        "coef_Correl=np.sqrt(coef_Deter)\n",
        "coef_Correl"
      ],
      "metadata": {
        "colab": {
          "base_uri": "https://localhost:8080/"
        },
        "id": "0JNFOpf3X2Q3",
        "outputId": "7b65581a-ae1b-4ae8-c5ef-ac6bcc121a9a"
      },
      "execution_count": null,
      "outputs": [
        {
          "output_type": "execute_result",
          "data": {
            "text/plain": [
              "0.15935883055081992"
            ]
          },
          "metadata": {},
          "execution_count": 38
        }
      ]
    },
    {
      "cell_type": "markdown",
      "source": [
        "Regresion lineal 2"
      ],
      "metadata": {
        "id": "ljhiMJ3bc7aC"
      }
    },
    {
      "cell_type": "code",
      "source": [
        "#Se define model como la función de regresión lineal\n",
        "from sklearn.linear_model import LinearRegression\n",
        "model= LinearRegression()"
      ],
      "metadata": {
        "id": "b44pJL8Ac9cJ"
      },
      "execution_count": null,
      "outputs": []
    },
    {
      "cell_type": "code",
      "source": [
        "#Verificamos la función relacionada al modelo\n",
        "type(model)"
      ],
      "metadata": {
        "colab": {
          "base_uri": "https://localhost:8080/"
        },
        "id": "gIhjOwAjdD7-",
        "outputId": "e54c5dba-f9b9-4910-c03a-22c7b18816d6"
      },
      "execution_count": null,
      "outputs": [
        {
          "output_type": "execute_result",
          "data": {
            "text/plain": [
              "sklearn.linear_model._base.LinearRegression"
            ]
          },
          "metadata": {},
          "execution_count": 40
        }
      ]
    },
    {
      "cell_type": "code",
      "source": [
        "#Ajustamos el modelo con las variables antes declaradas\n",
        "model.fit(X=Vars_Indepm1, y=Var_Depm1)"
      ],
      "metadata": {
        "colab": {
          "base_uri": "https://localhost:8080/"
        },
        "id": "k5390FXXdMDL",
        "outputId": "f0871888-d93a-4518-842c-439fd276ec59"
      },
      "execution_count": null,
      "outputs": [
        {
          "output_type": "execute_result",
          "data": {
            "text/plain": [
              "LinearRegression()"
            ]
          },
          "metadata": {},
          "execution_count": 41
        }
      ]
    },
    {
      "cell_type": "code",
      "source": [
        "#Verificamos los coeficientes obtenidos para el modelo ajustado\n",
        "model.__dict__"
      ],
      "metadata": {
        "id": "gat0lhvJdP2M"
      },
      "execution_count": null,
      "outputs": []
    },
    {
      "cell_type": "code",
      "source": [
        "#Evaluamos la eficiencia del modelo obtenido por medio del coeficiente R2 Determinación\n",
        "model.score(Vars_Indepm2,Var_Depm2)"
      ],
      "metadata": {
        "id": "58e7VruxdUzm"
      },
      "execution_count": null,
      "outputs": []
    },
    {
      "cell_type": "code",
      "source": [
        "#Predecimos los valores de total de accidentes a partir de las variables: \"alcohol\", \"speeding\" y \"no_previous\"\n",
        "y_pred2= model.predict(X=Lastmile_customer_limpios[['83_willingness_ultrafast_delivery', '84_willingness_sameday_delivery','241_age_of_the_interviewee']])\n",
        "y_pred2"
      ],
      "metadata": {
        "id": "XSFKPlO9dgg3"
      },
      "execution_count": null,
      "outputs": []
    },
    {
      "cell_type": "code",
      "source": [
        "#Insertamos la columna de predicciones en el DataFrame\n",
        "Lastmile_customer_limpios.insert(0, 'Predicciones2', y_pred2)\n",
        "Lastmile_customer_limpios"
      ],
      "metadata": {
        "id": "hwpdt4AcdmqV"
      },
      "execution_count": null,
      "outputs": []
    },
    {
      "cell_type": "code",
      "source": [
        "#Visualizamos la gráfica comparativa entre el total real y el total predecido\n",
        "\n",
        "sns.scatterplot(x='83_willingness_ultrafast_delivery', y='238_frequency_buying_store', color=\"blue\", data=Lastmile_customer_limpios)\n",
        "sns.scatterplot(x='83_willingness_ultrafast_delivery', y='Predicciones', color=\"red\", data=Lastmile_customer_limpios)\n",
        "#sns.lineplot(x='alcohol', y='Predicciones', color=\"red\", data=df)"
      ],
      "metadata": {
        "id": "bxhtCgoAeEid"
      },
      "execution_count": null,
      "outputs": []
    },
    {
      "cell_type": "code",
      "source": [
        "#Corroboramos cual es el coeficiente de Determinación de nuestro modelo\n",
        "coef_Deter=model.score(X=Vars_Indepm2, y=Var_Depm2)\n",
        "coef_Deter"
      ],
      "metadata": {
        "id": "u-coa2O0e5_6"
      },
      "execution_count": null,
      "outputs": []
    },
    {
      "cell_type": "code",
      "source": [
        "#Corroboramos cual es el coeficiente de Correlación de nuestro modelo\n",
        "coef_Correl=np.sqrt(coef_Deter)\n",
        "coef_Correl"
      ],
      "metadata": {
        "id": "97NKCGkcf-0T"
      },
      "execution_count": null,
      "outputs": []
    },
    {
      "cell_type": "markdown",
      "source": [
        "Modelo regresion logistica 1"
      ],
      "metadata": {
        "id": "1jU1X37QYVL-"
      }
    },
    {
      "cell_type": "code",
      "source": [
        "#Declaramos las variables dependientes e independientes para la regresión Logística\n",
        "Vars_Indepm3= Lastmile_customer_limpios[['288_number_app_purchases_month', '81_number_online_purchases_month','289_number_whatsapp_purchases_month']]\n",
        "Var_Depm3= Lastmile_customer_limpios['283_fulfill_needs']"
      ],
      "metadata": {
        "id": "uz6sePtSYYMj"
      },
      "execution_count": null,
      "outputs": []
    },
    {
      "cell_type": "code",
      "source": [
        "#Redefinimos las variables \n",
        "X= Vars_Indepm3\n",
        "y= Var_Depm3"
      ],
      "metadata": {
        "id": "oBtxSJk6ZFjV"
      },
      "execution_count": null,
      "outputs": []
    },
    {
      "cell_type": "code",
      "source": [
        "#Dividimos el conjunto de datos en la parte de entrenamiento y prueba:\n",
        "X_train, X_test, y_train, y_test = train_test_split(X, y, test_size=0.3, random_state =None)"
      ],
      "metadata": {
        "id": "0fvPg1_SZKb-"
      },
      "execution_count": null,
      "outputs": []
    },
    {
      "cell_type": "code",
      "source": [
        "#Se escalan todos los datos\n",
        "escalar = StandardScaler()"
      ],
      "metadata": {
        "id": "ZFspfnlnZMKX"
      },
      "execution_count": null,
      "outputs": []
    },
    {
      "cell_type": "code",
      "source": [
        "#Para realizar el escalamiento de las variables “X” tanto de entrenamiento como de prueba, utilizaremos fit_transform\n",
        "X_train = escalar.fit_transform(X_train)\n",
        "X_test = escalar.transform(X_test)"
      ],
      "metadata": {
        "id": "kHUMBQXWZPLu"
      },
      "execution_count": null,
      "outputs": []
    },
    {
      "cell_type": "code",
      "source": [
        "#Definimos el algoritmo a utilizar\n",
        "from sklearn.linear_model import LogisticRegression\n",
        "algoritmo = LogisticRegression()"
      ],
      "metadata": {
        "id": "9il75TDVZSbG"
      },
      "execution_count": null,
      "outputs": []
    },
    {
      "cell_type": "code",
      "source": [
        "#Entrenamos el modelo\n",
        "algoritmo.fit(X_train, y_train)"
      ],
      "metadata": {
        "colab": {
          "base_uri": "https://localhost:8080/"
        },
        "id": "RMHsQqncZXFh",
        "outputId": "397f1249-666b-4e1d-c27f-79454f49e04e"
      },
      "execution_count": null,
      "outputs": [
        {
          "output_type": "execute_result",
          "data": {
            "text/plain": [
              "LogisticRegression()"
            ]
          },
          "metadata": {},
          "execution_count": 58
        }
      ]
    },
    {
      "cell_type": "code",
      "source": [
        "#Realizamos una predicción\n",
        "y_pred = algoritmo.predict(X_test) \n",
        "y_pred"
      ],
      "metadata": {
        "id": "uayGrb3aZaUL"
      },
      "execution_count": null,
      "outputs": []
    },
    {
      "cell_type": "code",
      "source": [
        "#Verifico la matriz de Confusión\n",
        "from sklearn.metrics import confusion_matrix\n",
        "matriz = confusion_matrix(y_test, y_pred)\n",
        "print('Matriz de Confusión:')\n",
        "print(matriz)"
      ],
      "metadata": {
        "colab": {
          "base_uri": "https://localhost:8080/"
        },
        "id": "W3q88feOZbgE",
        "outputId": "69341b84-658d-4914-d1e2-855c2fc1b6d9"
      },
      "execution_count": null,
      "outputs": [
        {
          "output_type": "stream",
          "name": "stdout",
          "text": [
            "Matriz de Confusión:\n",
            "[[  0  10]\n",
            " [  0 103]]\n"
          ]
        }
      ]
    },
    {
      "cell_type": "code",
      "source": [
        "#Calculo la precisión del modelo\n",
        "from sklearn.metrics import precision_score\n",
        "\n",
        "precision = precision_score(y_test, y_pred, average=\"binary\", pos_label=\"yes\")\n",
        "print('Precisión del modelo:')\n",
        "print(precision)"
      ],
      "metadata": {
        "id": "OaD_W5wNZka6",
        "colab": {
          "base_uri": "https://localhost:8080/"
        },
        "outputId": "c6d7eb26-7584-4090-cbc9-0805a4efdf22"
      },
      "execution_count": null,
      "outputs": [
        {
          "output_type": "stream",
          "name": "stdout",
          "text": [
            "Precisión del modelo:\n",
            "0.911504424778761\n"
          ]
        }
      ]
    },
    {
      "cell_type": "code",
      "source": [
        "#Calculo la exactitud del modelo\n",
        "from sklearn.metrics import accuracy_score\n",
        "\n",
        "exactitud = accuracy_score(y_test, y_pred)\n",
        "print('Exactitud del modelo:')\n",
        "print(exactitud)"
      ],
      "metadata": {
        "colab": {
          "base_uri": "https://localhost:8080/"
        },
        "id": "cUopL9VyZqTd",
        "outputId": "fc0fff9d-30b4-43ca-9d45-6adab53e9992"
      },
      "execution_count": null,
      "outputs": [
        {
          "output_type": "stream",
          "name": "stdout",
          "text": [
            "Exactitud del modelo:\n",
            "0.911504424778761\n"
          ]
        }
      ]
    },
    {
      "cell_type": "code",
      "source": [
        "#Calculo la sensibilidad del modelo\n",
        "from sklearn.metrics import recall_score\n",
        "\n",
        "sensibilidad = recall_score(y_test, y_pred, average=\"binary\", pos_label=\"yes\")\n",
        "print('Sensibilidad del modelo:')\n",
        "print(sensibilidad)"
      ],
      "metadata": {
        "colab": {
          "base_uri": "https://localhost:8080/"
        },
        "id": "IXYktHvZZvww",
        "outputId": "aed170c0-0f59-4e27-9620-2f7b98fdfce6"
      },
      "execution_count": null,
      "outputs": [
        {
          "output_type": "stream",
          "name": "stdout",
          "text": [
            "Sensibilidad del modelo:\n",
            "1.0\n"
          ]
        }
      ]
    },
    {
      "cell_type": "code",
      "source": [
        "# el puntaje F1 que es una combinación entre la precisión y la sensibilidad, para esto importamos f1_score.\n",
        "#Calculo el Puntaje F1 del modelo\n",
        "from sklearn.metrics import f1_score\n",
        "\n",
        "puntajef1 = f1_score(y_test, y_pred, average=\"binary\", pos_label=\"yes\")\n",
        "print('Puntaje F1 del modelo:')\n",
        "print(puntajef1)"
      ],
      "metadata": {
        "id": "hNH6nTYxZzXm",
        "outputId": "eab874da-cab9-4cce-ebb7-a80b7c4549a0",
        "colab": {
          "base_uri": "https://localhost:8080/"
        }
      },
      "execution_count": null,
      "outputs": [
        {
          "output_type": "stream",
          "name": "stdout",
          "text": [
            "Puntaje F1 del modelo:\n",
            "0.9537037037037037\n"
          ]
        }
      ]
    },
    {
      "cell_type": "markdown",
      "source": [
        "Regresion logistica 2"
      ],
      "metadata": {
        "id": "ILeuEh3_bZJd"
      }
    },
    {
      "cell_type": "code",
      "source": [
        "#Declaramos las variables dependientes e independientes para la regresión Logística\n",
        "Vars_Indepm4= Lastmile_customer_limpios[['83_willingness_ultrafast_delivery', '84_willingness_sameday_delivery','241_age_of_the_interviewee']]\n",
        "Var_Depm4= Lastmile_customer_limpios['283_fulfill_needs']"
      ],
      "metadata": {
        "id": "rb9xcyavbbfJ"
      },
      "execution_count": null,
      "outputs": []
    },
    {
      "cell_type": "code",
      "source": [
        "#Redefinimos las variables \n",
        "X= Vars_Indepm4\n",
        "y= Var_Depm4"
      ],
      "metadata": {
        "id": "W_HInG40bqOb"
      },
      "execution_count": null,
      "outputs": []
    },
    {
      "cell_type": "code",
      "source": [
        "#Dividimos el conjunto de datos en la parte de entrenamiento y prueba:\n",
        "X_train, X_test, y_train, y_test = train_test_split(X, y, test_size=0.3, random_state =None)"
      ],
      "metadata": {
        "id": "p9WVmrU5bzJn"
      },
      "execution_count": null,
      "outputs": []
    },
    {
      "cell_type": "code",
      "source": [
        "#Se escalan todos los datos\n",
        "escalar = StandardScaler()"
      ],
      "metadata": {
        "id": "QDPk5Accb6Oi"
      },
      "execution_count": null,
      "outputs": []
    },
    {
      "cell_type": "code",
      "source": [
        "#Para realizar el escalamiento de las variables “X” tanto de entrenamiento como de prueba, utilizaremos fit_transform\n",
        "X_train = escalar.fit_transform(X_train)\n",
        "X_test = escalar.transform(X_test)"
      ],
      "metadata": {
        "id": "4Y7hfO5qcAUG"
      },
      "execution_count": null,
      "outputs": []
    },
    {
      "cell_type": "code",
      "source": [
        "#Definimos el algoritmo a utilizar\n",
        "from sklearn.linear_model import LogisticRegression\n",
        "algoritmo = LogisticRegression()"
      ],
      "metadata": {
        "id": "ACrv5iOUcEpq"
      },
      "execution_count": null,
      "outputs": []
    },
    {
      "cell_type": "code",
      "source": [
        "#Entrenamos el modelo\n",
        "algoritmo.fit(X_train, y_train)"
      ],
      "metadata": {
        "colab": {
          "base_uri": "https://localhost:8080/"
        },
        "id": "t_76n6mBcIWa",
        "outputId": "cc7cc74d-57cf-4f39-cbd5-3f0234945e6c"
      },
      "execution_count": null,
      "outputs": [
        {
          "output_type": "execute_result",
          "data": {
            "text/plain": [
              "LogisticRegression()"
            ]
          },
          "metadata": {},
          "execution_count": 71
        }
      ]
    },
    {
      "cell_type": "code",
      "source": [
        "#Realizamos una predicción\n",
        "y_pred = algoritmo.predict(X_test) \n",
        "y_pred"
      ],
      "metadata": {
        "colab": {
          "base_uri": "https://localhost:8080/"
        },
        "id": "zxe3VNe9cNcs",
        "outputId": "0c57e5dd-cfc3-417e-9ad0-dd7e8c8b5baa"
      },
      "execution_count": null,
      "outputs": [
        {
          "output_type": "execute_result",
          "data": {
            "text/plain": [
              "array(['yes', 'yes', 'yes', 'yes', 'yes', 'yes', 'yes', 'yes', 'yes',\n",
              "       'yes', 'yes', 'yes', 'yes', 'yes', 'yes', 'yes', 'yes', 'yes',\n",
              "       'yes', 'yes', 'yes', 'yes', 'yes', 'yes', 'yes', 'yes', 'yes',\n",
              "       'yes', 'yes', 'yes', 'yes', 'yes', 'yes', 'yes', 'yes', 'yes',\n",
              "       'yes', 'yes', 'yes', 'yes', 'yes', 'yes', 'yes', 'yes', 'yes',\n",
              "       'yes', 'yes', 'yes', 'yes', 'yes', 'yes', 'yes', 'yes', 'yes',\n",
              "       'yes', 'yes', 'yes', 'yes', 'yes', 'yes', 'yes', 'yes', 'yes',\n",
              "       'yes', 'yes', 'yes', 'yes', 'yes', 'yes', 'yes', 'yes', 'yes',\n",
              "       'yes', 'yes', 'yes', 'yes', 'yes', 'yes', 'yes', 'yes', 'yes',\n",
              "       'yes', 'yes', 'yes', 'yes', 'yes', 'yes', 'yes', 'yes', 'yes',\n",
              "       'yes', 'yes', 'yes', 'yes', 'yes', 'yes', 'yes', 'yes', 'yes',\n",
              "       'yes', 'yes', 'yes', 'yes', 'yes', 'yes', 'yes', 'yes', 'yes',\n",
              "       'yes', 'yes', 'yes', 'yes', 'yes'], dtype=object)"
            ]
          },
          "metadata": {},
          "execution_count": 72
        }
      ]
    },
    {
      "cell_type": "code",
      "source": [
        "#Verifico la matriz de Confusión\n",
        "from sklearn.metrics import confusion_matrix\n",
        "matriz = confusion_matrix(y_test, y_pred)\n",
        "print('Matriz de Confusión:')\n",
        "print(matriz)"
      ],
      "metadata": {
        "colab": {
          "base_uri": "https://localhost:8080/"
        },
        "id": "u_3DojRacSF5",
        "outputId": "a9b7a3f1-32ee-4b56-f632-cf860caf674f"
      },
      "execution_count": null,
      "outputs": [
        {
          "output_type": "stream",
          "name": "stdout",
          "text": [
            "Matriz de Confusión:\n",
            "[[  0  11]\n",
            " [  0 102]]\n"
          ]
        }
      ]
    },
    {
      "cell_type": "code",
      "source": [
        "#Calculo la precisión del modelo\n",
        "from sklearn.metrics import precision_score\n",
        "\n",
        "precision = precision_score(y_test, y_pred, average=\"binary\", pos_label=\"yes\")\n",
        "print('Precisión del modelo:')\n",
        "print(precision)"
      ],
      "metadata": {
        "colab": {
          "base_uri": "https://localhost:8080/"
        },
        "id": "lv6ArR0EceV_",
        "outputId": "be378e2a-d183-488a-e742-7fd2e7162469"
      },
      "execution_count": null,
      "outputs": [
        {
          "output_type": "stream",
          "name": "stdout",
          "text": [
            "Precisión del modelo:\n",
            "0.9026548672566371\n"
          ]
        }
      ]
    },
    {
      "cell_type": "code",
      "source": [
        "#Calculo la exactitud del modelo\n",
        "from sklearn.metrics import accuracy_score\n",
        "\n",
        "exactitud = accuracy_score(y_test, y_pred)\n",
        "print('Exactitud del modelo:')\n",
        "print(exactitud)"
      ],
      "metadata": {
        "colab": {
          "base_uri": "https://localhost:8080/"
        },
        "id": "eWD0xSEWclqe",
        "outputId": "3ce6dc61-ee5e-4908-b5fc-0d8a4451b2f9"
      },
      "execution_count": null,
      "outputs": [
        {
          "output_type": "stream",
          "name": "stdout",
          "text": [
            "Exactitud del modelo:\n",
            "0.9026548672566371\n"
          ]
        }
      ]
    },
    {
      "cell_type": "code",
      "source": [
        "#Calculo la sensibilidad del modelo\n",
        "from sklearn.metrics import recall_score\n",
        "\n",
        "sensibilidad = recall_score(y_test, y_pred, average=\"binary\", pos_label=\"yes\")\n",
        "print('Sensibilidad del modelo:')\n",
        "print(sensibilidad)"
      ],
      "metadata": {
        "colab": {
          "base_uri": "https://localhost:8080/"
        },
        "id": "6ZvDAeZycpNV",
        "outputId": "1e4907c8-c394-4137-e156-81e2fe80484e"
      },
      "execution_count": null,
      "outputs": [
        {
          "output_type": "stream",
          "name": "stdout",
          "text": [
            "Sensibilidad del modelo:\n",
            "1.0\n"
          ]
        }
      ]
    },
    {
      "cell_type": "code",
      "source": [
        "# el puntaje F1 que es una combinación entre la precisión y la sensibilidad, para esto importamos f1_score.\n",
        "#Calculo el Puntaje F1 del modelo\n",
        "from sklearn.metrics import f1_score\n",
        "\n",
        "puntajef1 = f1_score(y_test, y_pred, average=\"binary\", pos_label=\"yes\")\n",
        "print('Puntaje F1 del modelo:')\n",
        "print(puntajef1)"
      ],
      "metadata": {
        "colab": {
          "base_uri": "https://localhost:8080/"
        },
        "id": "r_g0b76gcuAG",
        "outputId": "21b84a1d-3a91-4245-9550-50f9d073c696"
      },
      "execution_count": null,
      "outputs": [
        {
          "output_type": "stream",
          "name": "stdout",
          "text": [
            "Puntaje F1 del modelo:\n",
            "0.9488372093023255\n"
          ]
        }
      ]
    }
  ]
}